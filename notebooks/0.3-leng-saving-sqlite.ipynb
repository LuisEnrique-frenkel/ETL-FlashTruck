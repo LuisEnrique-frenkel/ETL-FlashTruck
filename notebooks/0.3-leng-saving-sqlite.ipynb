{
 "cells": [
  {
   "cell_type": "markdown",
   "metadata": {},
   "source": [
    "# Auto reload modules"
   ]
  },
  {
   "cell_type": "code",
   "execution_count": 1,
   "metadata": {},
   "outputs": [],
   "source": [
    "%load_ext autoreload\n",
    "%autoreload 2"
   ]
  },
  {
   "cell_type": "code",
   "execution_count": 2,
   "metadata": {},
   "outputs": [],
   "source": [
    "import module.dir_utils as dir_utils\n",
    "import sqlite3 as db\n",
    "import pandas as pd\n",
    "import fs"
   ]
  },
  {
   "cell_type": "markdown",
   "metadata": {},
   "source": [
    "# Directories"
   ]
  },
  {
   "cell_type": "code",
   "execution_count": 6,
   "metadata": {},
   "outputs": [],
   "source": [
    "MAIN_DIR = fs.open_fs(\"../data/processed/final\")\n",
    "DIR_TLG_SF_CSV = MAIN_DIR.getsyspath(\"TLG_SF.csv\")\n",
    "DIR_DB = MAIN_DIR.getsyspath(\"TLG.db3\")"
   ]
  },
  {
   "cell_type": "code",
   "execution_count": 5,
   "metadata": {},
   "outputs": [
    {
     "data": {
      "text/html": [
       "<div>\n",
       "<style scoped>\n",
       "    .dataframe tbody tr th:only-of-type {\n",
       "        vertical-align: middle;\n",
       "    }\n",
       "\n",
       "    .dataframe tbody tr th {\n",
       "        vertical-align: top;\n",
       "    }\n",
       "\n",
       "    .dataframe thead th {\n",
       "        text-align: right;\n",
       "    }\n",
       "</style>\n",
       "<table border=\"1\" class=\"dataframe\">\n",
       "  <thead>\n",
       "    <tr style=\"text-align: right;\">\n",
       "      <th></th>\n",
       "      <th>pk_TimeStamp</th>\n",
       "      <th>Value</th>\n",
       "      <th>tag_name</th>\n",
       "    </tr>\n",
       "  </thead>\n",
       "  <tbody>\n",
       "    <tr>\n",
       "      <th>0</th>\n",
       "      <td>133543067468902405</td>\n",
       "      <td>12210.074219</td>\n",
       "      <td>Totalizador_Transferencia</td>\n",
       "    </tr>\n",
       "    <tr>\n",
       "      <th>1</th>\n",
       "      <td>133543079289260621</td>\n",
       "      <td>8033.640137</td>\n",
       "      <td>Totalizador_Transferencia</td>\n",
       "    </tr>\n",
       "    <tr>\n",
       "      <th>2</th>\n",
       "      <td>133543111229257914</td>\n",
       "      <td>4964.895996</td>\n",
       "      <td>Totalizador_Transferencia</td>\n",
       "    </tr>\n",
       "    <tr>\n",
       "      <th>3</th>\n",
       "      <td>133543134489783109</td>\n",
       "      <td>5118.520508</td>\n",
       "      <td>Totalizador_Transferencia</td>\n",
       "    </tr>\n",
       "    <tr>\n",
       "      <th>4</th>\n",
       "      <td>133543161780470776</td>\n",
       "      <td>5799.258301</td>\n",
       "      <td>Totalizador_Transferencia</td>\n",
       "    </tr>\n",
       "  </tbody>\n",
       "</table>\n",
       "</div>"
      ],
      "text/plain": [
       "         pk_TimeStamp         Value                   tag_name\n",
       "0  133543067468902405  12210.074219  Totalizador_Transferencia\n",
       "1  133543079289260621   8033.640137  Totalizador_Transferencia\n",
       "2  133543111229257914   4964.895996  Totalizador_Transferencia\n",
       "3  133543134489783109   5118.520508  Totalizador_Transferencia\n",
       "4  133543161780470776   5799.258301  Totalizador_Transferencia"
      ]
     },
     "execution_count": 5,
     "metadata": {},
     "output_type": "execute_result"
    }
   ],
   "source": [
    "dF_TLG_SF = pd.read_csv(DIR_TLG_SF_CSV)\n",
    "dF_TLG_SF.head()"
   ]
  },
  {
   "cell_type": "code",
   "execution_count": 8,
   "metadata": {},
   "outputs": [],
   "source": [
    "# Create connection to the DB and write data\n",
    "conn= db.connect(DIR_DB)\n",
    "dF_TLG_SF.to_sql(\"Data\", conn, if_exists=\"replace\")\n",
    "conn.close()"
   ]
  }
 ],
 "metadata": {
  "kernelspec": {
   "display_name": "sqlite_tia_portal_etl",
   "language": "python",
   "name": "python3"
  },
  "language_info": {
   "codemirror_mode": {
    "name": "ipython",
    "version": 3
   },
   "file_extension": ".py",
   "mimetype": "text/x-python",
   "name": "python",
   "nbconvert_exporter": "python",
   "pygments_lexer": "ipython3",
   "version": "3.11.5"
  }
 },
 "nbformat": 4,
 "nbformat_minor": 2
}
