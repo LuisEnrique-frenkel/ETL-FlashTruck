{
 "cells": [
  {
   "cell_type": "markdown",
   "metadata": {},
   "source": [
    "# Libraries"
   ]
  },
  {
   "cell_type": "code",
   "execution_count": 1,
   "metadata": {},
   "outputs": [],
   "source": [
    "%load_ext autoreload\n",
    "%autoreload 2"
   ]
  },
  {
   "cell_type": "code",
   "execution_count": 2,
   "metadata": {},
   "outputs": [],
   "source": [
    "import module.influx_utils as mod_inf\n",
    "import pandas as pd\n",
    "import fs\n",
    "import os"
   ]
  },
  {
   "cell_type": "markdown",
   "metadata": {},
   "source": [
    "# Change Time"
   ]
  },
  {
   "cell_type": "code",
   "execution_count": 3,
   "metadata": {},
   "outputs": [
    {
     "name": "stdout",
     "output_type": "stream",
     "text": [
      "2024-03-03T00:48:41.796401Z\n"
     ]
    }
   ],
   "source": [
    "# Example usage\n",
    "ticks = 133539005217964000\n",
    "print(mod_inf.ticks_to_rfc3339(ticks))  # Output: 2020-12-18T18:16:11Z"
   ]
  },
  {
   "cell_type": "markdown",
   "metadata": {},
   "source": [
    "# Directories"
   ]
  },
  {
   "cell_type": "code",
   "execution_count": 4,
   "metadata": {},
   "outputs": [],
   "source": [
    "MAIN_DIR = fs.open_fs(\"../data/processed/final\")\n",
    "DIR_TLG_SF_CSV = MAIN_DIR.getsyspath(\"TLG_SF.csv\")\n",
    "DIR_TLG_SF_CSV_INF = MAIN_DIR.getsyspath(\"TLG_SF_INF.csv\")\n",
    "DIR_TLG_SF_CSV_INF_temp = MAIN_DIR.getsyspath(\"TLG_SF_INF_temp.csv\")"
   ]
  },
  {
   "cell_type": "code",
   "execution_count": 5,
   "metadata": {},
   "outputs": [
    {
     "data": {
      "text/html": [
       "<div>\n",
       "<style scoped>\n",
       "    .dataframe tbody tr th:only-of-type {\n",
       "        vertical-align: middle;\n",
       "    }\n",
       "\n",
       "    .dataframe tbody tr th {\n",
       "        vertical-align: top;\n",
       "    }\n",
       "\n",
       "    .dataframe thead th {\n",
       "        text-align: right;\n",
       "    }\n",
       "</style>\n",
       "<table border=\"1\" class=\"dataframe\">\n",
       "  <thead>\n",
       "    <tr style=\"text-align: right;\">\n",
       "      <th></th>\n",
       "      <th>pk_TimeStamp</th>\n",
       "      <th>Value</th>\n",
       "      <th>tag_name</th>\n",
       "    </tr>\n",
       "  </thead>\n",
       "  <tbody>\n",
       "    <tr>\n",
       "      <th>0</th>\n",
       "      <td>133543067468902405</td>\n",
       "      <td>12210.074219</td>\n",
       "      <td>Totalizador_Transferencia</td>\n",
       "    </tr>\n",
       "    <tr>\n",
       "      <th>1</th>\n",
       "      <td>133543079289260621</td>\n",
       "      <td>8033.640137</td>\n",
       "      <td>Totalizador_Transferencia</td>\n",
       "    </tr>\n",
       "    <tr>\n",
       "      <th>2</th>\n",
       "      <td>133543111229257914</td>\n",
       "      <td>4964.895996</td>\n",
       "      <td>Totalizador_Transferencia</td>\n",
       "    </tr>\n",
       "    <tr>\n",
       "      <th>3</th>\n",
       "      <td>133543134489783109</td>\n",
       "      <td>5118.520508</td>\n",
       "      <td>Totalizador_Transferencia</td>\n",
       "    </tr>\n",
       "    <tr>\n",
       "      <th>4</th>\n",
       "      <td>133543161780470776</td>\n",
       "      <td>5799.258301</td>\n",
       "      <td>Totalizador_Transferencia</td>\n",
       "    </tr>\n",
       "  </tbody>\n",
       "</table>\n",
       "</div>"
      ],
      "text/plain": [
       "         pk_TimeStamp         Value                   tag_name\n",
       "0  133543067468902405  12210.074219  Totalizador_Transferencia\n",
       "1  133543079289260621   8033.640137  Totalizador_Transferencia\n",
       "2  133543111229257914   4964.895996  Totalizador_Transferencia\n",
       "3  133543134489783109   5118.520508  Totalizador_Transferencia\n",
       "4  133543161780470776   5799.258301  Totalizador_Transferencia"
      ]
     },
     "execution_count": 5,
     "metadata": {},
     "output_type": "execute_result"
    }
   ],
   "source": [
    "dF_TLG_SF = pd.read_csv(DIR_TLG_SF_CSV)\n",
    "dF_TLG_SF.head()"
   ]
  },
  {
   "cell_type": "code",
   "execution_count": 6,
   "metadata": {},
   "outputs": [],
   "source": [
    "dF_TLG_SF['_time'] = dF_TLG_SF['pk_TimeStamp'].apply(lambda x: mod_inf.ticks_to_rfc3339(x))"
   ]
  },
  {
   "cell_type": "code",
   "execution_count": 7,
   "metadata": {},
   "outputs": [
    {
     "data": {
      "text/html": [
       "<div>\n",
       "<style scoped>\n",
       "    .dataframe tbody tr th:only-of-type {\n",
       "        vertical-align: middle;\n",
       "    }\n",
       "\n",
       "    .dataframe tbody tr th {\n",
       "        vertical-align: top;\n",
       "    }\n",
       "\n",
       "    .dataframe thead th {\n",
       "        text-align: right;\n",
       "    }\n",
       "</style>\n",
       "<table border=\"1\" class=\"dataframe\">\n",
       "  <thead>\n",
       "    <tr style=\"text-align: right;\">\n",
       "      <th></th>\n",
       "      <th>pk_TimeStamp</th>\n",
       "      <th>Value</th>\n",
       "      <th>tag_name</th>\n",
       "      <th>_time</th>\n",
       "    </tr>\n",
       "  </thead>\n",
       "  <tbody>\n",
       "    <tr>\n",
       "      <th>0</th>\n",
       "      <td>133543067468902405</td>\n",
       "      <td>12210.074219</td>\n",
       "      <td>Totalizador_Transferencia</td>\n",
       "      <td>2024-03-07T17:39:06.890241Z</td>\n",
       "    </tr>\n",
       "    <tr>\n",
       "      <th>1</th>\n",
       "      <td>133543079289260621</td>\n",
       "      <td>8033.640137</td>\n",
       "      <td>Totalizador_Transferencia</td>\n",
       "      <td>2024-03-07T17:58:48.926062Z</td>\n",
       "    </tr>\n",
       "    <tr>\n",
       "      <th>2</th>\n",
       "      <td>133543111229257914</td>\n",
       "      <td>4964.895996</td>\n",
       "      <td>Totalizador_Transferencia</td>\n",
       "      <td>2024-03-07T18:52:02.925791Z</td>\n",
       "    </tr>\n",
       "    <tr>\n",
       "      <th>3</th>\n",
       "      <td>133543134489783109</td>\n",
       "      <td>5118.520508</td>\n",
       "      <td>Totalizador_Transferencia</td>\n",
       "      <td>2024-03-07T19:30:48.978313Z</td>\n",
       "    </tr>\n",
       "    <tr>\n",
       "      <th>4</th>\n",
       "      <td>133543161780470776</td>\n",
       "      <td>5799.258301</td>\n",
       "      <td>Totalizador_Transferencia</td>\n",
       "      <td>2024-03-07T20:16:18.047077Z</td>\n",
       "    </tr>\n",
       "  </tbody>\n",
       "</table>\n",
       "</div>"
      ],
      "text/plain": [
       "         pk_TimeStamp         Value                   tag_name  \\\n",
       "0  133543067468902405  12210.074219  Totalizador_Transferencia   \n",
       "1  133543079289260621   8033.640137  Totalizador_Transferencia   \n",
       "2  133543111229257914   4964.895996  Totalizador_Transferencia   \n",
       "3  133543134489783109   5118.520508  Totalizador_Transferencia   \n",
       "4  133543161780470776   5799.258301  Totalizador_Transferencia   \n",
       "\n",
       "                         _time  \n",
       "0  2024-03-07T17:39:06.890241Z  \n",
       "1  2024-03-07T17:58:48.926062Z  \n",
       "2  2024-03-07T18:52:02.925791Z  \n",
       "3  2024-03-07T19:30:48.978313Z  \n",
       "4  2024-03-07T20:16:18.047077Z  "
      ]
     },
     "execution_count": 7,
     "metadata": {},
     "output_type": "execute_result"
    }
   ],
   "source": [
    "dF_TLG_SF.head()"
   ]
  },
  {
   "cell_type": "code",
   "execution_count": 8,
   "metadata": {},
   "outputs": [
    {
     "data": {
      "text/html": [
       "<div>\n",
       "<style scoped>\n",
       "    .dataframe tbody tr th:only-of-type {\n",
       "        vertical-align: middle;\n",
       "    }\n",
       "\n",
       "    .dataframe tbody tr th {\n",
       "        vertical-align: top;\n",
       "    }\n",
       "\n",
       "    .dataframe thead th {\n",
       "        text-align: right;\n",
       "    }\n",
       "</style>\n",
       "<table border=\"1\" class=\"dataframe\">\n",
       "  <thead>\n",
       "    <tr style=\"text-align: right;\">\n",
       "      <th></th>\n",
       "      <th>_time</th>\n",
       "      <th>_value</th>\n",
       "      <th>_field</th>\n",
       "    </tr>\n",
       "  </thead>\n",
       "  <tbody>\n",
       "    <tr>\n",
       "      <th>0</th>\n",
       "      <td>2024-03-07T17:39:06.890241Z</td>\n",
       "      <td>12210.074219</td>\n",
       "      <td>Totalizador_Transferencia</td>\n",
       "    </tr>\n",
       "    <tr>\n",
       "      <th>1</th>\n",
       "      <td>2024-03-07T17:58:48.926062Z</td>\n",
       "      <td>8033.640137</td>\n",
       "      <td>Totalizador_Transferencia</td>\n",
       "    </tr>\n",
       "    <tr>\n",
       "      <th>2</th>\n",
       "      <td>2024-03-07T18:52:02.925791Z</td>\n",
       "      <td>4964.895996</td>\n",
       "      <td>Totalizador_Transferencia</td>\n",
       "    </tr>\n",
       "    <tr>\n",
       "      <th>3</th>\n",
       "      <td>2024-03-07T19:30:48.978313Z</td>\n",
       "      <td>5118.520508</td>\n",
       "      <td>Totalizador_Transferencia</td>\n",
       "    </tr>\n",
       "    <tr>\n",
       "      <th>4</th>\n",
       "      <td>2024-03-07T20:16:18.047077Z</td>\n",
       "      <td>5799.258301</td>\n",
       "      <td>Totalizador_Transferencia</td>\n",
       "    </tr>\n",
       "    <tr>\n",
       "      <th>...</th>\n",
       "      <td>...</td>\n",
       "      <td>...</td>\n",
       "      <td>...</td>\n",
       "    </tr>\n",
       "    <tr>\n",
       "      <th>535263</th>\n",
       "      <td>2020-10-23T16:00:48.143311Z</td>\n",
       "      <td>25.374699</td>\n",
       "      <td>TempSiloSQ</td>\n",
       "    </tr>\n",
       "    <tr>\n",
       "      <th>535264</th>\n",
       "      <td>2020-10-23T16:00:51.147592Z</td>\n",
       "      <td>25.371086</td>\n",
       "      <td>TempSiloSQ</td>\n",
       "    </tr>\n",
       "    <tr>\n",
       "      <th>535265</th>\n",
       "      <td>2020-10-23T16:00:52.146400Z</td>\n",
       "      <td>25.374699</td>\n",
       "      <td>TempSiloSQ</td>\n",
       "    </tr>\n",
       "    <tr>\n",
       "      <th>535266</th>\n",
       "      <td>2020-10-23T16:00:54.150870Z</td>\n",
       "      <td>25.381926</td>\n",
       "      <td>TempSiloSQ</td>\n",
       "    </tr>\n",
       "    <tr>\n",
       "      <th>535267</th>\n",
       "      <td>2020-10-23T16:00:55.146695Z</td>\n",
       "      <td>25.389154</td>\n",
       "      <td>TempSiloSQ</td>\n",
       "    </tr>\n",
       "  </tbody>\n",
       "</table>\n",
       "<p>535268 rows × 3 columns</p>\n",
       "</div>"
      ],
      "text/plain": [
       "                              _time        _value                     _field\n",
       "0       2024-03-07T17:39:06.890241Z  12210.074219  Totalizador_Transferencia\n",
       "1       2024-03-07T17:58:48.926062Z   8033.640137  Totalizador_Transferencia\n",
       "2       2024-03-07T18:52:02.925791Z   4964.895996  Totalizador_Transferencia\n",
       "3       2024-03-07T19:30:48.978313Z   5118.520508  Totalizador_Transferencia\n",
       "4       2024-03-07T20:16:18.047077Z   5799.258301  Totalizador_Transferencia\n",
       "...                             ...           ...                        ...\n",
       "535263  2020-10-23T16:00:48.143311Z     25.374699                 TempSiloSQ\n",
       "535264  2020-10-23T16:00:51.147592Z     25.371086                 TempSiloSQ\n",
       "535265  2020-10-23T16:00:52.146400Z     25.374699                 TempSiloSQ\n",
       "535266  2020-10-23T16:00:54.150870Z     25.381926                 TempSiloSQ\n",
       "535267  2020-10-23T16:00:55.146695Z     25.389154                 TempSiloSQ\n",
       "\n",
       "[535268 rows x 3 columns]"
      ]
     },
     "execution_count": 8,
     "metadata": {},
     "output_type": "execute_result"
    }
   ],
   "source": [
    "dF_TLG_SF_INF = dF_TLG_SF[['_time', 'Value', 'tag_name']].copy()\n",
    "dF_TLG_SF_INF.columns = ['_time', '_value', '_field']\n",
    "dF_TLG_SF_INF.to_csv(DIR_TLG_SF_CSV_INF, encoding='utf-8', index=False)\n",
    "dF_TLG_SF_INF"
   ]
  },
  {
   "cell_type": "code",
   "execution_count": 9,
   "metadata": {},
   "outputs": [
    {
     "name": "stdout",
     "output_type": "stream",
     "text": [
      "<class 'pandas.core.frame.DataFrame'>\n",
      "RangeIndex: 535268 entries, 0 to 535267\n",
      "Data columns (total 3 columns):\n",
      " #   Column  Non-Null Count   Dtype  \n",
      "---  ------  --------------   -----  \n",
      " 0   _time   535268 non-null  object \n",
      " 1   _value  535268 non-null  float64\n",
      " 2   _field  535268 non-null  object \n",
      "dtypes: float64(1), object(2)\n",
      "memory usage: 12.3+ MB\n"
     ]
    }
   ],
   "source": [
    "dF_TLG_SF_INF.info()"
   ]
  },
  {
   "cell_type": "code",
   "execution_count": 10,
   "metadata": {},
   "outputs": [],
   "source": [
    "measurement : str  = \"sensorData5\"\n",
    "headers: str = f\"#constant measurement,{measurement}\\n{mod_inf.generate_headers_from_dataframe(dF_TLG_SF_INF)}\"\n",
    "file_path = DIR_TLG_SF_CSV_INF\n",
    "temp_file_path = DIR_TLG_SF_CSV_INF_temp\n",
    "\n",
    "# Read the existing content of the file\n",
    "with open(file_path, 'r') as original_file:\n",
    "    existing_content = original_file.read()\n",
    "\n",
    "# Write the headers and then the existing content to a temporary file\n",
    "with open(temp_file_path, 'w') as temp_file:\n",
    "    temp_file.write(headers + '\\n')\n",
    "    temp_file.write(existing_content)\n",
    "\n",
    "# Replace the original file with the temporary file\n",
    "os.replace(temp_file_path, file_path)"
   ]
  }
 ],
 "metadata": {
  "kernelspec": {
   "display_name": "sqlite_tia_portal_etl",
   "language": "python",
   "name": "python3"
  },
  "language_info": {
   "codemirror_mode": {
    "name": "ipython",
    "version": 3
   },
   "file_extension": ".py",
   "mimetype": "text/x-python",
   "name": "python",
   "nbconvert_exporter": "python",
   "pygments_lexer": "ipython3",
   "version": "3.11.5"
  }
 },
 "nbformat": 4,
 "nbformat_minor": 2
}
