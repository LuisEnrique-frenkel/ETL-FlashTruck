{
 "cells": [
  {
   "cell_type": "markdown",
   "metadata": {},
   "source": [
    "# Libraries"
   ]
  },
  {
   "cell_type": "code",
   "execution_count": 21,
   "metadata": {},
   "outputs": [
    {
     "name": "stdout",
     "output_type": "stream",
     "text": [
      "The autoreload extension is already loaded. To reload it, use:\n",
      "  %reload_ext autoreload\n"
     ]
    }
   ],
   "source": [
    "%load_ext autoreload\n",
    "%autoreload 2"
   ]
  },
  {
   "cell_type": "code",
   "execution_count": 22,
   "metadata": {},
   "outputs": [],
   "source": [
    "import module.influx_utils as mod_inf\n",
    "import pandas as pd\n",
    "import fs\n",
    "import os"
   ]
  },
  {
   "cell_type": "markdown",
   "metadata": {},
   "source": [
    "# Change Time"
   ]
  },
  {
   "cell_type": "code",
   "execution_count": 23,
   "metadata": {},
   "outputs": [
    {
     "name": "stdout",
     "output_type": "stream",
     "text": [
      "2024-03-03T00:48:41.796401Z\n"
     ]
    }
   ],
   "source": [
    "# Example usage\n",
    "ticks = 133539005217964000\n",
    "print(mod_inf.ticks_to_rfc3339(ticks))  # Output: 2020-12-18T18:16:11Z"
   ]
  },
  {
   "cell_type": "markdown",
   "metadata": {},
   "source": [
    "# Directories"
   ]
  },
  {
   "cell_type": "code",
   "execution_count": 24,
   "metadata": {},
   "outputs": [],
   "source": [
    "MAIN_DIR = fs.open_fs(\"../data/processed/final\")\n",
    "DIR_TLG_SF_CSV = MAIN_DIR.getsyspath(\"TLG_SF.csv\")\n",
    "DIR_TLG_SF_CSV_INF = MAIN_DIR.getsyspath(\"TLG_SF_INF.csv\")\n",
    "DIR_TLG_SF_CSV_INF_temp = MAIN_DIR.getsyspath(\"TLG_SF_INF_temp.csv\")"
   ]
  },
  {
   "cell_type": "code",
   "execution_count": 25,
   "metadata": {},
   "outputs": [
    {
     "data": {
      "text/html": [
       "<div>\n",
       "<style scoped>\n",
       "    .dataframe tbody tr th:only-of-type {\n",
       "        vertical-align: middle;\n",
       "    }\n",
       "\n",
       "    .dataframe tbody tr th {\n",
       "        vertical-align: top;\n",
       "    }\n",
       "\n",
       "    .dataframe thead th {\n",
       "        text-align: right;\n",
       "    }\n",
       "</style>\n",
       "<table border=\"1\" class=\"dataframe\">\n",
       "  <thead>\n",
       "    <tr style=\"text-align: right;\">\n",
       "      <th></th>\n",
       "      <th>pk_TimeStamp</th>\n",
       "      <th>Value</th>\n",
       "      <th>tag_name</th>\n",
       "    </tr>\n",
       "  </thead>\n",
       "  <tbody>\n",
       "    <tr>\n",
       "      <th>0</th>\n",
       "      <td>133543067468902405</td>\n",
       "      <td>12210.074219</td>\n",
       "      <td>Totalizador_Transferencia</td>\n",
       "    </tr>\n",
       "    <tr>\n",
       "      <th>1</th>\n",
       "      <td>133543079289260621</td>\n",
       "      <td>8033.640137</td>\n",
       "      <td>Totalizador_Transferencia</td>\n",
       "    </tr>\n",
       "    <tr>\n",
       "      <th>2</th>\n",
       "      <td>133543111229257914</td>\n",
       "      <td>4964.895996</td>\n",
       "      <td>Totalizador_Transferencia</td>\n",
       "    </tr>\n",
       "    <tr>\n",
       "      <th>3</th>\n",
       "      <td>133543134489783109</td>\n",
       "      <td>5118.520508</td>\n",
       "      <td>Totalizador_Transferencia</td>\n",
       "    </tr>\n",
       "    <tr>\n",
       "      <th>4</th>\n",
       "      <td>133543161780470776</td>\n",
       "      <td>5799.258301</td>\n",
       "      <td>Totalizador_Transferencia</td>\n",
       "    </tr>\n",
       "  </tbody>\n",
       "</table>\n",
       "</div>"
      ],
      "text/plain": [
       "         pk_TimeStamp         Value                   tag_name\n",
       "0  133543067468902405  12210.074219  Totalizador_Transferencia\n",
       "1  133543079289260621   8033.640137  Totalizador_Transferencia\n",
       "2  133543111229257914   4964.895996  Totalizador_Transferencia\n",
       "3  133543134489783109   5118.520508  Totalizador_Transferencia\n",
       "4  133543161780470776   5799.258301  Totalizador_Transferencia"
      ]
     },
     "execution_count": 25,
     "metadata": {},
     "output_type": "execute_result"
    }
   ],
   "source": [
    "dF_TLG_SF = pd.read_csv(DIR_TLG_SF_CSV)\n",
    "dF_TLG_SF.head()"
   ]
  },
  {
   "cell_type": "code",
   "execution_count": 26,
   "metadata": {},
   "outputs": [],
   "source": [
    "dF_TLG_SF['_time'] = dF_TLG_SF['pk_TimeStamp'].apply(lambda x: mod_inf.ticks_to_rfc3339(x))"
   ]
  },
  {
   "cell_type": "code",
   "execution_count": 27,
   "metadata": {},
   "outputs": [
    {
     "data": {
      "text/html": [
       "<div>\n",
       "<style scoped>\n",
       "    .dataframe tbody tr th:only-of-type {\n",
       "        vertical-align: middle;\n",
       "    }\n",
       "\n",
       "    .dataframe tbody tr th {\n",
       "        vertical-align: top;\n",
       "    }\n",
       "\n",
       "    .dataframe thead th {\n",
       "        text-align: right;\n",
       "    }\n",
       "</style>\n",
       "<table border=\"1\" class=\"dataframe\">\n",
       "  <thead>\n",
       "    <tr style=\"text-align: right;\">\n",
       "      <th></th>\n",
       "      <th>pk_TimeStamp</th>\n",
       "      <th>Value</th>\n",
       "      <th>tag_name</th>\n",
       "      <th>_time</th>\n",
       "    </tr>\n",
       "  </thead>\n",
       "  <tbody>\n",
       "    <tr>\n",
       "      <th>0</th>\n",
       "      <td>133543067468902405</td>\n",
       "      <td>12210.074219</td>\n",
       "      <td>Totalizador_Transferencia</td>\n",
       "      <td>2024-03-07T17:39:06.890241Z</td>\n",
       "    </tr>\n",
       "    <tr>\n",
       "      <th>1</th>\n",
       "      <td>133543079289260621</td>\n",
       "      <td>8033.640137</td>\n",
       "      <td>Totalizador_Transferencia</td>\n",
       "      <td>2024-03-07T17:58:48.926062Z</td>\n",
       "    </tr>\n",
       "    <tr>\n",
       "      <th>2</th>\n",
       "      <td>133543111229257914</td>\n",
       "      <td>4964.895996</td>\n",
       "      <td>Totalizador_Transferencia</td>\n",
       "      <td>2024-03-07T18:52:02.925791Z</td>\n",
       "    </tr>\n",
       "    <tr>\n",
       "      <th>3</th>\n",
       "      <td>133543134489783109</td>\n",
       "      <td>5118.520508</td>\n",
       "      <td>Totalizador_Transferencia</td>\n",
       "      <td>2024-03-07T19:30:48.978313Z</td>\n",
       "    </tr>\n",
       "    <tr>\n",
       "      <th>4</th>\n",
       "      <td>133543161780470776</td>\n",
       "      <td>5799.258301</td>\n",
       "      <td>Totalizador_Transferencia</td>\n",
       "      <td>2024-03-07T20:16:18.047077Z</td>\n",
       "    </tr>\n",
       "  </tbody>\n",
       "</table>\n",
       "</div>"
      ],
      "text/plain": [
       "         pk_TimeStamp         Value                   tag_name  \\\n",
       "0  133543067468902405  12210.074219  Totalizador_Transferencia   \n",
       "1  133543079289260621   8033.640137  Totalizador_Transferencia   \n",
       "2  133543111229257914   4964.895996  Totalizador_Transferencia   \n",
       "3  133543134489783109   5118.520508  Totalizador_Transferencia   \n",
       "4  133543161780470776   5799.258301  Totalizador_Transferencia   \n",
       "\n",
       "                         _time  \n",
       "0  2024-03-07T17:39:06.890241Z  \n",
       "1  2024-03-07T17:58:48.926062Z  \n",
       "2  2024-03-07T18:52:02.925791Z  \n",
       "3  2024-03-07T19:30:48.978313Z  \n",
       "4  2024-03-07T20:16:18.047077Z  "
      ]
     },
     "execution_count": 27,
     "metadata": {},
     "output_type": "execute_result"
    }
   ],
   "source": [
    "dF_TLG_SF.head()"
   ]
  },
  {
   "cell_type": "code",
   "execution_count": 28,
   "metadata": {},
   "outputs": [
    {
     "data": {
      "text/html": [
       "<div>\n",
       "<style scoped>\n",
       "    .dataframe tbody tr th:only-of-type {\n",
       "        vertical-align: middle;\n",
       "    }\n",
       "\n",
       "    .dataframe tbody tr th {\n",
       "        vertical-align: top;\n",
       "    }\n",
       "\n",
       "    .dataframe thead th {\n",
       "        text-align: right;\n",
       "    }\n",
       "</style>\n",
       "<table border=\"1\" class=\"dataframe\">\n",
       "  <thead>\n",
       "    <tr style=\"text-align: right;\">\n",
       "      <th></th>\n",
       "      <th>_time</th>\n",
       "      <th>_value</th>\n",
       "      <th>_field</th>\n",
       "    </tr>\n",
       "  </thead>\n",
       "  <tbody>\n",
       "    <tr>\n",
       "      <th>0</th>\n",
       "      <td>2024-03-07T17:39:06.890241Z</td>\n",
       "      <td>12210.074219</td>\n",
       "      <td>Totalizador_Transferencia</td>\n",
       "    </tr>\n",
       "    <tr>\n",
       "      <th>1</th>\n",
       "      <td>2024-03-07T17:58:48.926062Z</td>\n",
       "      <td>8033.640137</td>\n",
       "      <td>Totalizador_Transferencia</td>\n",
       "    </tr>\n",
       "    <tr>\n",
       "      <th>2</th>\n",
       "      <td>2024-03-07T18:52:02.925791Z</td>\n",
       "      <td>4964.895996</td>\n",
       "      <td>Totalizador_Transferencia</td>\n",
       "    </tr>\n",
       "    <tr>\n",
       "      <th>3</th>\n",
       "      <td>2024-03-07T19:30:48.978313Z</td>\n",
       "      <td>5118.520508</td>\n",
       "      <td>Totalizador_Transferencia</td>\n",
       "    </tr>\n",
       "    <tr>\n",
       "      <th>4</th>\n",
       "      <td>2024-03-07T20:16:18.047077Z</td>\n",
       "      <td>5799.258301</td>\n",
       "      <td>Totalizador_Transferencia</td>\n",
       "    </tr>\n",
       "    <tr>\n",
       "      <th>...</th>\n",
       "      <td>...</td>\n",
       "      <td>...</td>\n",
       "      <td>...</td>\n",
       "    </tr>\n",
       "    <tr>\n",
       "      <th>15285283</th>\n",
       "      <td>2024-06-26T19:19:03.130356Z</td>\n",
       "      <td>60.000000</td>\n",
       "      <td>PresionTransferencia</td>\n",
       "    </tr>\n",
       "    <tr>\n",
       "      <th>15285284</th>\n",
       "      <td>2024-06-26T19:43:01.562757Z</td>\n",
       "      <td>0.000000</td>\n",
       "      <td>PresionTransferencia</td>\n",
       "    </tr>\n",
       "    <tr>\n",
       "      <th>15285285</th>\n",
       "      <td>2024-06-26T19:43:01.614952Z</td>\n",
       "      <td>0.000000</td>\n",
       "      <td>PresionTransferencia</td>\n",
       "    </tr>\n",
       "    <tr>\n",
       "      <th>15285286</th>\n",
       "      <td>2024-06-26T19:52:48.150430Z</td>\n",
       "      <td>60.000000</td>\n",
       "      <td>PresionTransferencia</td>\n",
       "    </tr>\n",
       "    <tr>\n",
       "      <th>15285287</th>\n",
       "      <td>2024-06-27T15:16:00.656180Z</td>\n",
       "      <td>84.000000</td>\n",
       "      <td>PresionTransferencia</td>\n",
       "    </tr>\n",
       "  </tbody>\n",
       "</table>\n",
       "<p>15285288 rows × 3 columns</p>\n",
       "</div>"
      ],
      "text/plain": [
       "                                _time        _value                     _field\n",
       "0         2024-03-07T17:39:06.890241Z  12210.074219  Totalizador_Transferencia\n",
       "1         2024-03-07T17:58:48.926062Z   8033.640137  Totalizador_Transferencia\n",
       "2         2024-03-07T18:52:02.925791Z   4964.895996  Totalizador_Transferencia\n",
       "3         2024-03-07T19:30:48.978313Z   5118.520508  Totalizador_Transferencia\n",
       "4         2024-03-07T20:16:18.047077Z   5799.258301  Totalizador_Transferencia\n",
       "...                               ...           ...                        ...\n",
       "15285283  2024-06-26T19:19:03.130356Z     60.000000       PresionTransferencia\n",
       "15285284  2024-06-26T19:43:01.562757Z      0.000000       PresionTransferencia\n",
       "15285285  2024-06-26T19:43:01.614952Z      0.000000       PresionTransferencia\n",
       "15285286  2024-06-26T19:52:48.150430Z     60.000000       PresionTransferencia\n",
       "15285287  2024-06-27T15:16:00.656180Z     84.000000       PresionTransferencia\n",
       "\n",
       "[15285288 rows x 3 columns]"
      ]
     },
     "execution_count": 28,
     "metadata": {},
     "output_type": "execute_result"
    }
   ],
   "source": [
    "dF_TLG_SF_INF = dF_TLG_SF[['_time', 'Value', 'tag_name']].copy()\n",
    "dF_TLG_SF_INF.columns = ['_time', '_value', '_field']\n",
    "dF_TLG_SF_INF.to_csv(DIR_TLG_SF_CSV_INF, encoding='utf-8', index=False)\n",
    "dF_TLG_SF_INF"
   ]
  },
  {
   "cell_type": "code",
   "execution_count": 29,
   "metadata": {},
   "outputs": [
    {
     "name": "stdout",
     "output_type": "stream",
     "text": [
      "<class 'pandas.core.frame.DataFrame'>\n",
      "RangeIndex: 15285288 entries, 0 to 15285287\n",
      "Data columns (total 3 columns):\n",
      " #   Column  Dtype  \n",
      "---  ------  -----  \n",
      " 0   _time   object \n",
      " 1   _value  float64\n",
      " 2   _field  object \n",
      "dtypes: float64(1), object(2)\n",
      "memory usage: 349.9+ MB\n"
     ]
    }
   ],
   "source": [
    "dF_TLG_SF_INF.info()"
   ]
  },
  {
   "cell_type": "code",
   "execution_count": 30,
   "metadata": {},
   "outputs": [
    {
     "ename": "PermissionError",
     "evalue": "[WinError 5] Access is denied: 'c:\\\\Users\\\\Lenovo\\\\Dropbox\\\\Luis Noguera\\\\Sucroliq\\\\Querétaro\\\\DataBase\\\\sqlite_tia_portal_etl\\\\data\\\\processed\\\\final\\\\TLG_SF_INF_temp.csv' -> 'c:\\\\Users\\\\Lenovo\\\\Dropbox\\\\Luis Noguera\\\\Sucroliq\\\\Querétaro\\\\DataBase\\\\sqlite_tia_portal_etl\\\\data\\\\processed\\\\final\\\\TLG_SF_INF.csv'",
     "output_type": "error",
     "traceback": [
      "\u001b[1;31m---------------------------------------------------------------------------\u001b[0m",
      "\u001b[1;31mPermissionError\u001b[0m                           Traceback (most recent call last)",
      "Cell \u001b[1;32mIn[30], line 16\u001b[0m\n\u001b[0;32m     13\u001b[0m     temp_file\u001b[38;5;241m.\u001b[39mwrite(existing_content)\n\u001b[0;32m     15\u001b[0m \u001b[38;5;66;03m# Replace the original file with the temporary file\u001b[39;00m\n\u001b[1;32m---> 16\u001b[0m \u001b[43mos\u001b[49m\u001b[38;5;241;43m.\u001b[39;49m\u001b[43mreplace\u001b[49m\u001b[43m(\u001b[49m\u001b[43mtemp_file_path\u001b[49m\u001b[43m,\u001b[49m\u001b[43m \u001b[49m\u001b[43mfile_path\u001b[49m\u001b[43m)\u001b[49m\n",
      "\u001b[1;31mPermissionError\u001b[0m: [WinError 5] Access is denied: 'c:\\\\Users\\\\Lenovo\\\\Dropbox\\\\Luis Noguera\\\\Sucroliq\\\\Querétaro\\\\DataBase\\\\sqlite_tia_portal_etl\\\\data\\\\processed\\\\final\\\\TLG_SF_INF_temp.csv' -> 'c:\\\\Users\\\\Lenovo\\\\Dropbox\\\\Luis Noguera\\\\Sucroliq\\\\Querétaro\\\\DataBase\\\\sqlite_tia_portal_etl\\\\data\\\\processed\\\\final\\\\TLG_SF_INF.csv'"
     ]
    }
   ],
   "source": [
    "measurement : str  = \"old\"\n",
    "headers: str = f\"#constant measurement,{measurement}\\n{mod_inf.generate_headers_from_dataframe(dF_TLG_SF_INF)}\"\n",
    "file_path = DIR_TLG_SF_CSV_INF\n",
    "temp_file_path = DIR_TLG_SF_CSV_INF_temp\n",
    "\n",
    "# Read the existing content of the file\n",
    "with open(file_path, 'r') as original_file:\n",
    "    existing_content = original_file.read()\n",
    "\n",
    "# Write the headers and then the existing content to a temporary file\n",
    "with open(temp_file_path, 'w') as temp_file:\n",
    "    temp_file.write(headers + '\\n')\n",
    "    temp_file.write(existing_content)\n",
    "\n",
    "# Replace the original file with the temporary file\n",
    "os.replace(temp_file_path, file_path)"
   ]
  }
 ],
 "metadata": {
  "kernelspec": {
   "display_name": "sqlite_tia_portal_etl",
   "language": "python",
   "name": "python3"
  },
  "language_info": {
   "codemirror_mode": {
    "name": "ipython",
    "version": 3
   },
   "file_extension": ".py",
   "mimetype": "text/x-python",
   "name": "python",
   "nbconvert_exporter": "python",
   "pygments_lexer": "ipython3",
   "version": "3.11.5"
  }
 },
 "nbformat": 4,
 "nbformat_minor": 2
}
