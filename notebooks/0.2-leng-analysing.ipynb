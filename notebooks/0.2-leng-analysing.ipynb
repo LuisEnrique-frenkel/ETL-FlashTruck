{
 "cells": [
  {
   "cell_type": "markdown",
   "metadata": {},
   "source": [
    "# Auto reload modules"
   ]
  },
  {
   "cell_type": "code",
   "execution_count": 1,
   "metadata": {},
   "outputs": [],
   "source": [
    "%load_ext autoreload\n",
    "%autoreload 2"
   ]
  },
  {
   "cell_type": "markdown",
   "metadata": {},
   "source": [
    "# Directories"
   ]
  },
  {
   "cell_type": "code",
   "execution_count": 26,
   "metadata": {},
   "outputs": [],
   "source": [
    "import module.dir_utils as dir_utils\n",
    "import pandas as pd\n",
    "import fs"
   ]
  },
  {
   "cell_type": "code",
   "execution_count": 3,
   "metadata": {},
   "outputs": [],
   "source": [
    "CSV_DIR = fs.open_fs(\"../data/processed\")\n",
    "DIR_TLG1889 = CSV_DIR.opendir(\"TLG1889\")\n",
    "DIR_TLG1893 = CSV_DIR.opendir(\"TLG1893\")\n",
    "DIR_TLG1895 = CSV_DIR.opendir(\"TLG1895\")\n",
    "DIR_TLG1897 = CSV_DIR.opendir(\"TLG1897\")\n",
    "DIR_TLG1904 = CSV_DIR.opendir(\"TLG1904\")"
   ]
  },
  {
   "cell_type": "code",
   "execution_count": 27,
   "metadata": {},
   "outputs": [],
   "source": [
    "DIR_TLG1889_stream = DIR_TLG1889.getsyspath(\"TLG1889_stream.csv\")\n",
    "DIR_TLG1893_stream = DIR_TLG1893.getsyspath(\"TLG1893_stream.csv\")\n",
    "DIR_TLG1895_stream = DIR_TLG1895.getsyspath(\"TLG1895_stream.csv\")\n",
    "DIR_TLG1897_stream = DIR_TLG1897.getsyspath(\"TLG1897_stream.csv\")\n",
    "DIR_TLG1904_stream = DIR_TLG1904.getsyspath(\"TLG1904_stream.csv\")\n",
    "\n",
    "# Final\n",
    "DIR_TLG1893_stream_final = DIR_TLG1893.getsyspath(\"TLG1893_stream_final.csv\")\n",
    "DIR_TLG1904_stream_final = DIR_TLG1904.getsyspath(\"TLG1904_stream_final.csv\")\n",
    "\n",
    "CSV_DIR_FINAL = dir_utils.mkdir(CSV_DIR, \"final\")\n",
    "DIR_TLG_SF = CSV_DIR_FINAL.getsyspath(\"TLG_SF.csv\")"
   ]
  },
  {
   "cell_type": "code",
   "execution_count": 5,
   "metadata": {},
   "outputs": [],
   "source": [
    "df_TLG1889_stream = pd.read_csv(DIR_TLG1889_stream)\n",
    "df_TLG1893_stream = pd.read_csv(DIR_TLG1893_stream)\n",
    "df_TLG1895_stream = pd.read_csv(DIR_TLG1895_stream)\n",
    "df_TLG1897_stream = pd.read_csv(DIR_TLG1897_stream)\n",
    "df_TLG1904_stream = pd.read_csv(DIR_TLG1904_stream)"
   ]
  },
  {
   "cell_type": "code",
   "execution_count": 9,
   "metadata": {},
   "outputs": [
    {
     "data": {
      "text/plain": [
       "tag_name\n",
       "NivelTK1                1104628\n",
       "TempSiloSQ              1040309\n",
       "TT-Transferencia         971735\n",
       "NivelSiloSQ              957300\n",
       "PT-Transferencia         924813\n",
       "PT-Descarga              918786\n",
       "TT-Descarga              911711\n",
       "NivelTk2                 855707\n",
       "DIT-Transferencia        838008\n",
       "FIT-Descarga             835405\n",
       "DIT-Descarga             826479\n",
       "BRIX-Transferencia       800792\n",
       "BRIX-Descarga            776523\n",
       "FIT-Transferencia        760215\n",
       "FIQ-D                    494338\n",
       "PresionDescarga             266\n",
       "PresionTransferencia         11\n",
       "Name: count, dtype: int64"
      ]
     },
     "execution_count": 9,
     "metadata": {},
     "output_type": "execute_result"
    }
   ],
   "source": [
    "df_TLG1904_stream[\"tag_name\"].value_counts()"
   ]
  },
  {
   "cell_type": "code",
   "execution_count": 18,
   "metadata": {},
   "outputs": [
    {
     "data": {
      "text/html": [
       "<div>\n",
       "<style scoped>\n",
       "    .dataframe tbody tr th:only-of-type {\n",
       "        vertical-align: middle;\n",
       "    }\n",
       "\n",
       "    .dataframe tbody tr th {\n",
       "        vertical-align: top;\n",
       "    }\n",
       "\n",
       "    .dataframe thead th {\n",
       "        text-align: right;\n",
       "    }\n",
       "</style>\n",
       "<table border=\"1\" class=\"dataframe\">\n",
       "  <thead>\n",
       "    <tr style=\"text-align: right;\">\n",
       "      <th></th>\n",
       "      <th>pk_TimeStamp</th>\n",
       "      <th>Value</th>\n",
       "      <th>tag_name</th>\n",
       "    </tr>\n",
       "  </thead>\n",
       "  <tbody>\n",
       "    <tr>\n",
       "      <th>0</th>\n",
       "      <td>132478560561901178</td>\n",
       "      <td>5.05904</td>\n",
       "      <td>FIT-Transferencia</td>\n",
       "    </tr>\n",
       "    <tr>\n",
       "      <th>1</th>\n",
       "      <td>132478560571976221</td>\n",
       "      <td>3.79428</td>\n",
       "      <td>FIT-Transferencia</td>\n",
       "    </tr>\n",
       "    <tr>\n",
       "      <th>2</th>\n",
       "      <td>132478560581985734</td>\n",
       "      <td>2.52952</td>\n",
       "      <td>FIT-Transferencia</td>\n",
       "    </tr>\n",
       "    <tr>\n",
       "      <th>3</th>\n",
       "      <td>132478560591925804</td>\n",
       "      <td>3.79428</td>\n",
       "      <td>FIT-Transferencia</td>\n",
       "    </tr>\n",
       "    <tr>\n",
       "      <th>4</th>\n",
       "      <td>132478560601916092</td>\n",
       "      <td>2.52952</td>\n",
       "      <td>FIT-Transferencia</td>\n",
       "    </tr>\n",
       "    <tr>\n",
       "      <th>...</th>\n",
       "      <td>...</td>\n",
       "      <td>...</td>\n",
       "      <td>...</td>\n",
       "    </tr>\n",
       "    <tr>\n",
       "      <th>13017021</th>\n",
       "      <td>133639031431303549</td>\n",
       "      <td>60.00000</td>\n",
       "      <td>PresionTransferencia</td>\n",
       "    </tr>\n",
       "    <tr>\n",
       "      <th>13017022</th>\n",
       "      <td>133639045815627583</td>\n",
       "      <td>0.00000</td>\n",
       "      <td>PresionTransferencia</td>\n",
       "    </tr>\n",
       "    <tr>\n",
       "      <th>13017023</th>\n",
       "      <td>133639045816149517</td>\n",
       "      <td>0.00000</td>\n",
       "      <td>PresionTransferencia</td>\n",
       "    </tr>\n",
       "    <tr>\n",
       "      <th>13017024</th>\n",
       "      <td>133639051681504284</td>\n",
       "      <td>60.00000</td>\n",
       "      <td>PresionTransferencia</td>\n",
       "    </tr>\n",
       "    <tr>\n",
       "      <th>13017025</th>\n",
       "      <td>133639749606561805</td>\n",
       "      <td>84.00000</td>\n",
       "      <td>PresionTransferencia</td>\n",
       "    </tr>\n",
       "  </tbody>\n",
       "</table>\n",
       "<p>13017026 rows × 3 columns</p>\n",
       "</div>"
      ],
      "text/plain": [
       "                pk_TimeStamp     Value              tag_name\n",
       "0         132478560561901178   5.05904     FIT-Transferencia\n",
       "1         132478560571976221   3.79428     FIT-Transferencia\n",
       "2         132478560581985734   2.52952     FIT-Transferencia\n",
       "3         132478560591925804   3.79428     FIT-Transferencia\n",
       "4         132478560601916092   2.52952     FIT-Transferencia\n",
       "...                      ...       ...                   ...\n",
       "13017021  133639031431303549  60.00000  PresionTransferencia\n",
       "13017022  133639045815627583   0.00000  PresionTransferencia\n",
       "13017023  133639045816149517   0.00000  PresionTransferencia\n",
       "13017024  133639051681504284  60.00000  PresionTransferencia\n",
       "13017025  133639749606561805  84.00000  PresionTransferencia\n",
       "\n",
       "[13017026 rows x 3 columns]"
      ]
     },
     "execution_count": 18,
     "metadata": {},
     "output_type": "execute_result"
    }
   ],
   "source": [
    "TLG1904_stream_final = df_TLG1904_stream[[\"pk_TimeStamp\", \"Value\", \"tag_name\"]]\n",
    "TLG1904_stream_final.to_csv(DIR_TLG1904_stream_final, encoding='utf-8', index=False)\n",
    "TLG1904_stream_final"
   ]
  },
  {
   "cell_type": "code",
   "execution_count": 8,
   "metadata": {},
   "outputs": [
    {
     "data": {
      "text/plain": [
       "tag_name\n",
       "TransModo                    3719\n",
       "DestinoTK1                   3719\n",
       "DestinoTK2                   3719\n",
       "Flujo_Promedio               3719\n",
       "Totalizador_Transferencia    3719\n",
       "BRIX_Promedio                3719\n",
       "Temp_Promedio                3719\n",
       "Trans_KgSecos                3719\n",
       "tDensidad                    3719\n",
       "Name: count, dtype: int64"
      ]
     },
     "execution_count": 8,
     "metadata": {},
     "output_type": "execute_result"
    }
   ],
   "source": [
    "df_TLG1893_stream[\"tag_name\"].value_counts()"
   ]
  },
  {
   "cell_type": "code",
   "execution_count": 20,
   "metadata": {},
   "outputs": [
    {
     "data": {
      "text/html": [
       "<div>\n",
       "<style scoped>\n",
       "    .dataframe tbody tr th:only-of-type {\n",
       "        vertical-align: middle;\n",
       "    }\n",
       "\n",
       "    .dataframe tbody tr th {\n",
       "        vertical-align: top;\n",
       "    }\n",
       "\n",
       "    .dataframe thead th {\n",
       "        text-align: right;\n",
       "    }\n",
       "</style>\n",
       "<table border=\"1\" class=\"dataframe\">\n",
       "  <thead>\n",
       "    <tr style=\"text-align: right;\">\n",
       "      <th></th>\n",
       "      <th>pk_TimeStamp</th>\n",
       "      <th>Value</th>\n",
       "      <th>tag_name</th>\n",
       "    </tr>\n",
       "  </thead>\n",
       "  <tbody>\n",
       "    <tr>\n",
       "      <th>14876</th>\n",
       "      <td>133543067468902405</td>\n",
       "      <td>12210.074219</td>\n",
       "      <td>Totalizador_Transferencia</td>\n",
       "    </tr>\n",
       "    <tr>\n",
       "      <th>14877</th>\n",
       "      <td>133543079289260621</td>\n",
       "      <td>8033.640137</td>\n",
       "      <td>Totalizador_Transferencia</td>\n",
       "    </tr>\n",
       "    <tr>\n",
       "      <th>14878</th>\n",
       "      <td>133543111229257914</td>\n",
       "      <td>4964.895996</td>\n",
       "      <td>Totalizador_Transferencia</td>\n",
       "    </tr>\n",
       "    <tr>\n",
       "      <th>14879</th>\n",
       "      <td>133543134489783109</td>\n",
       "      <td>5118.520508</td>\n",
       "      <td>Totalizador_Transferencia</td>\n",
       "    </tr>\n",
       "    <tr>\n",
       "      <th>14880</th>\n",
       "      <td>133543161780470776</td>\n",
       "      <td>5799.258301</td>\n",
       "      <td>Totalizador_Transferencia</td>\n",
       "    </tr>\n",
       "    <tr>\n",
       "      <th>...</th>\n",
       "      <td>...</td>\n",
       "      <td>...</td>\n",
       "      <td>...</td>\n",
       "    </tr>\n",
       "    <tr>\n",
       "      <th>29747</th>\n",
       "      <td>133645853429204785</td>\n",
       "      <td>1166.958130</td>\n",
       "      <td>Trans_KgSecos</td>\n",
       "    </tr>\n",
       "    <tr>\n",
       "      <th>29748</th>\n",
       "      <td>133645866459403879</td>\n",
       "      <td>2557.077881</td>\n",
       "      <td>Trans_KgSecos</td>\n",
       "    </tr>\n",
       "    <tr>\n",
       "      <th>29749</th>\n",
       "      <td>133645869529389774</td>\n",
       "      <td>1156.978271</td>\n",
       "      <td>Trans_KgSecos</td>\n",
       "    </tr>\n",
       "    <tr>\n",
       "      <th>29750</th>\n",
       "      <td>133645882889685722</td>\n",
       "      <td>1230.736694</td>\n",
       "      <td>Trans_KgSecos</td>\n",
       "    </tr>\n",
       "    <tr>\n",
       "      <th>29751</th>\n",
       "      <td>133645900310223010</td>\n",
       "      <td>1863.364380</td>\n",
       "      <td>Trans_KgSecos</td>\n",
       "    </tr>\n",
       "  </tbody>\n",
       "</table>\n",
       "<p>14876 rows × 3 columns</p>\n",
       "</div>"
      ],
      "text/plain": [
       "             pk_TimeStamp         Value                   tag_name\n",
       "14876  133543067468902405  12210.074219  Totalizador_Transferencia\n",
       "14877  133543079289260621   8033.640137  Totalizador_Transferencia\n",
       "14878  133543111229257914   4964.895996  Totalizador_Transferencia\n",
       "14879  133543134489783109   5118.520508  Totalizador_Transferencia\n",
       "14880  133543161780470776   5799.258301  Totalizador_Transferencia\n",
       "...                   ...           ...                        ...\n",
       "29747  133645853429204785   1166.958130              Trans_KgSecos\n",
       "29748  133645866459403879   2557.077881              Trans_KgSecos\n",
       "29749  133645869529389774   1156.978271              Trans_KgSecos\n",
       "29750  133645882889685722   1230.736694              Trans_KgSecos\n",
       "29751  133645900310223010   1863.364380              Trans_KgSecos\n",
       "\n",
       "[14876 rows x 3 columns]"
      ]
     },
     "execution_count": 20,
     "metadata": {},
     "output_type": "execute_result"
    }
   ],
   "source": [
    "df_TLG1893_stream_final = df_TLG1893_stream[df_TLG1893_stream['tag_name'].isin(['Totalizador_Transferencia', 'BRIX_Promedio', 'Temp_Promedio', 'Trans_KgSecos'])]\n",
    "df_TLG1893_stream_final = df_TLG1893_stream_final[['pk_TimeStamp', 'Value', 'tag_name']]\n",
    "df_TLG1893_stream_final.to_csv(DIR_TLG1893_stream_final, encoding='utf-8', index=False)\n",
    "df_TLG1893_stream_final"
   ]
  },
  {
   "cell_type": "code",
   "execution_count": 21,
   "metadata": {},
   "outputs": [
    {
     "name": "stdout",
     "output_type": "stream",
     "text": [
      "<class 'pandas.core.frame.DataFrame'>\n",
      "Index: 14876 entries, 14876 to 29751\n",
      "Data columns (total 3 columns):\n",
      " #   Column        Non-Null Count  Dtype  \n",
      "---  ------        --------------  -----  \n",
      " 0   pk_TimeStamp  14876 non-null  int64  \n",
      " 1   Value         14876 non-null  float64\n",
      " 2   tag_name      14876 non-null  object \n",
      "dtypes: float64(1), int64(1), object(1)\n",
      "memory usage: 464.9+ KB\n"
     ]
    }
   ],
   "source": [
    "df_TLG1893_stream_final.info()"
   ]
  },
  {
   "cell_type": "code",
   "execution_count": 32,
   "metadata": {},
   "outputs": [
    {
     "data": {
      "text/html": [
       "<div>\n",
       "<style scoped>\n",
       "    .dataframe tbody tr th:only-of-type {\n",
       "        vertical-align: middle;\n",
       "    }\n",
       "\n",
       "    .dataframe tbody tr th {\n",
       "        vertical-align: top;\n",
       "    }\n",
       "\n",
       "    .dataframe thead th {\n",
       "        text-align: right;\n",
       "    }\n",
       "</style>\n",
       "<table border=\"1\" class=\"dataframe\">\n",
       "  <thead>\n",
       "    <tr style=\"text-align: right;\">\n",
       "      <th></th>\n",
       "      <th>pk_TimeStamp</th>\n",
       "      <th>Value</th>\n",
       "      <th>tag_name</th>\n",
       "    </tr>\n",
       "  </thead>\n",
       "  <tbody>\n",
       "    <tr>\n",
       "      <th>14876</th>\n",
       "      <td>133543067468902405</td>\n",
       "      <td>12210.074219</td>\n",
       "      <td>Totalizador_Transferencia</td>\n",
       "    </tr>\n",
       "    <tr>\n",
       "      <th>14877</th>\n",
       "      <td>133543079289260621</td>\n",
       "      <td>8033.640137</td>\n",
       "      <td>Totalizador_Transferencia</td>\n",
       "    </tr>\n",
       "    <tr>\n",
       "      <th>14878</th>\n",
       "      <td>133543111229257914</td>\n",
       "      <td>4964.895996</td>\n",
       "      <td>Totalizador_Transferencia</td>\n",
       "    </tr>\n",
       "    <tr>\n",
       "      <th>14879</th>\n",
       "      <td>133543134489783109</td>\n",
       "      <td>5118.520508</td>\n",
       "      <td>Totalizador_Transferencia</td>\n",
       "    </tr>\n",
       "    <tr>\n",
       "      <th>14880</th>\n",
       "      <td>133543161780470776</td>\n",
       "      <td>5799.258301</td>\n",
       "      <td>Totalizador_Transferencia</td>\n",
       "    </tr>\n",
       "  </tbody>\n",
       "</table>\n",
       "</div>"
      ],
      "text/plain": [
       "             pk_TimeStamp         Value                   tag_name\n",
       "14876  133543067468902405  12210.074219  Totalizador_Transferencia\n",
       "14877  133543079289260621   8033.640137  Totalizador_Transferencia\n",
       "14878  133543111229257914   4964.895996  Totalizador_Transferencia\n",
       "14879  133543134489783109   5118.520508  Totalizador_Transferencia\n",
       "14880  133543161780470776   5799.258301  Totalizador_Transferencia"
      ]
     },
     "execution_count": 32,
     "metadata": {},
     "output_type": "execute_result"
    }
   ],
   "source": [
    "# Create an unique DF to CSV\n",
    "df_final = pd.concat([df_TLG1893_stream_final, TLG1904_stream_final])\n",
    "df_final.to_csv(DIR_TLG_SF, encoding='utf-8', index=False)\n",
    "df_final.head()"
   ]
  }
 ],
 "metadata": {
  "kernelspec": {
   "display_name": "sqlite_tia_portal_etl",
   "language": "python",
   "name": "python3"
  },
  "language_info": {
   "codemirror_mode": {
    "name": "ipython",
    "version": 3
   },
   "file_extension": ".py",
   "mimetype": "text/x-python",
   "name": "python",
   "nbconvert_exporter": "python",
   "pygments_lexer": "ipython3",
   "version": "3.11.5"
  }
 },
 "nbformat": 4,
 "nbformat_minor": 2
}
