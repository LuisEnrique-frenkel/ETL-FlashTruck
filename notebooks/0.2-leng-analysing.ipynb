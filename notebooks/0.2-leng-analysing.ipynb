{
 "cells": [
  {
   "cell_type": "markdown",
   "metadata": {},
   "source": [
    "# Auto reload modules"
   ]
  },
  {
   "cell_type": "code",
   "execution_count": 2,
   "metadata": {},
   "outputs": [],
   "source": [
    "%load_ext autoreload\n",
    "%autoreload 2"
   ]
  },
  {
   "cell_type": "markdown",
   "metadata": {},
   "source": [
    "# Directories"
   ]
  },
  {
   "cell_type": "code",
   "execution_count": 3,
   "metadata": {},
   "outputs": [],
   "source": [
    "import pandas as pd\n",
    "import fs"
   ]
  },
  {
   "cell_type": "markdown",
   "metadata": {},
   "source": [
    "# Functions"
   ]
  },
  {
   "cell_type": "code",
   "execution_count": null,
   "metadata": {},
   "outputs": [],
   "source": []
  },
  {
   "cell_type": "code",
   "execution_count": 4,
   "metadata": {},
   "outputs": [],
   "source": [
    "CSV_DIR = fs.open_fs(\"../data/processed\")\n",
    "DIR_TLG1889 = CSV_DIR.opendir(\"TLG1889\")\n",
    "DIR_TLG1893 = CSV_DIR.opendir(\"TLG1893\")\n",
    "DIR_TLG1895 = CSV_DIR.opendir(\"TLG1895\")\n",
    "DIR_TLG1897 = CSV_DIR.opendir(\"TLG1897\")\n",
    "DIR_TLG1904 = CSV_DIR.opendir(\"TLG1904\")"
   ]
  },
  {
   "cell_type": "code",
   "execution_count": 5,
   "metadata": {},
   "outputs": [],
   "source": [
    "DIR_TLG1889_stream = DIR_TLG1889.getsyspath(\"TLG1889_stream.csv\")\n",
    "DIR_TLG1893_stream = DIR_TLG1893.getsyspath(\"TLG1893_stream.csv\")\n",
    "DIR_TLG1895_stream = DIR_TLG1895.getsyspath(\"TLG1895_stream.csv\")\n",
    "DIR_TLG1897_stream = DIR_TLG1897.getsyspath(\"TLG1897_stream.csv\")\n",
    "DIR_TLG1904_stream = DIR_TLG1904.getsyspath(\"TLG1904_stream.csv\")"
   ]
  },
  {
   "cell_type": "code",
   "execution_count": 6,
   "metadata": {},
   "outputs": [],
   "source": [
    "df_TLG1889_stream = pd.read_csv(DIR_TLG1889_stream)\n",
    "df_TLG1893_stream= pd.read_csv(DIR_TLG1893_stream)\n",
    "df_TLG1895_stream= pd.read_csv(DIR_TLG1895_stream)\n",
    "df_TLG1897_stream= pd.read_csv(DIR_TLG1897_stream)\n",
    "df_TLG1904_stream= pd.read_csv(DIR_TLG1904_stream)"
   ]
  },
  {
   "cell_type": "code",
   "execution_count": 7,
   "metadata": {},
   "outputs": [
    {
     "data": {
      "text/html": [
       "<div>\n",
       "<style scoped>\n",
       "    .dataframe tbody tr th:only-of-type {\n",
       "        vertical-align: middle;\n",
       "    }\n",
       "\n",
       "    .dataframe tbody tr th {\n",
       "        vertical-align: top;\n",
       "    }\n",
       "\n",
       "    .dataframe thead th {\n",
       "        text-align: right;\n",
       "    }\n",
       "</style>\n",
       "<table border=\"1\" class=\"dataframe\">\n",
       "  <thead>\n",
       "    <tr style=\"text-align: right;\">\n",
       "      <th></th>\n",
       "      <th>pk_TimeStamp</th>\n",
       "      <th>pk_fk_Id</th>\n",
       "      <th>Value</th>\n",
       "      <th>tag_name</th>\n",
       "      <th>DataType</th>\n",
       "    </tr>\n",
       "  </thead>\n",
       "  <tbody>\n",
       "    <tr>\n",
       "      <th>0</th>\n",
       "      <td>132478560561901178</td>\n",
       "      <td>1</td>\n",
       "      <td>5.059040</td>\n",
       "      <td>FIT-Transferencia</td>\n",
       "      <td>10</td>\n",
       "    </tr>\n",
       "    <tr>\n",
       "      <th>1</th>\n",
       "      <td>132478560571976221</td>\n",
       "      <td>1</td>\n",
       "      <td>3.794280</td>\n",
       "      <td>FIT-Transferencia</td>\n",
       "      <td>10</td>\n",
       "    </tr>\n",
       "    <tr>\n",
       "      <th>2</th>\n",
       "      <td>132478560581985734</td>\n",
       "      <td>1</td>\n",
       "      <td>2.529520</td>\n",
       "      <td>FIT-Transferencia</td>\n",
       "      <td>10</td>\n",
       "    </tr>\n",
       "    <tr>\n",
       "      <th>3</th>\n",
       "      <td>132478560591925804</td>\n",
       "      <td>1</td>\n",
       "      <td>3.794280</td>\n",
       "      <td>FIT-Transferencia</td>\n",
       "      <td>10</td>\n",
       "    </tr>\n",
       "    <tr>\n",
       "      <th>4</th>\n",
       "      <td>132478560601916092</td>\n",
       "      <td>1</td>\n",
       "      <td>2.529520</td>\n",
       "      <td>FIT-Transferencia</td>\n",
       "      <td>10</td>\n",
       "    </tr>\n",
       "    <tr>\n",
       "      <th>...</th>\n",
       "      <td>...</td>\n",
       "      <td>...</td>\n",
       "      <td>...</td>\n",
       "      <td>...</td>\n",
       "      <td>...</td>\n",
       "    </tr>\n",
       "    <tr>\n",
       "      <th>519731</th>\n",
       "      <td>132479424481433099</td>\n",
       "      <td>10</td>\n",
       "      <td>25.374699</td>\n",
       "      <td>TempSiloSQ</td>\n",
       "      <td>10</td>\n",
       "    </tr>\n",
       "    <tr>\n",
       "      <th>519732</th>\n",
       "      <td>132479424511475899</td>\n",
       "      <td>10</td>\n",
       "      <td>25.371086</td>\n",
       "      <td>TempSiloSQ</td>\n",
       "      <td>10</td>\n",
       "    </tr>\n",
       "    <tr>\n",
       "      <th>519733</th>\n",
       "      <td>132479424521464009</td>\n",
       "      <td>10</td>\n",
       "      <td>25.374699</td>\n",
       "      <td>TempSiloSQ</td>\n",
       "      <td>10</td>\n",
       "    </tr>\n",
       "    <tr>\n",
       "      <th>519734</th>\n",
       "      <td>132479424541508688</td>\n",
       "      <td>10</td>\n",
       "      <td>25.381926</td>\n",
       "      <td>TempSiloSQ</td>\n",
       "      <td>10</td>\n",
       "    </tr>\n",
       "    <tr>\n",
       "      <th>519735</th>\n",
       "      <td>132479424551466946</td>\n",
       "      <td>10</td>\n",
       "      <td>25.389154</td>\n",
       "      <td>TempSiloSQ</td>\n",
       "      <td>10</td>\n",
       "    </tr>\n",
       "  </tbody>\n",
       "</table>\n",
       "<p>519736 rows × 5 columns</p>\n",
       "</div>"
      ],
      "text/plain": [
       "              pk_TimeStamp  pk_fk_Id      Value           tag_name  DataType\n",
       "0       132478560561901178         1   5.059040  FIT-Transferencia        10\n",
       "1       132478560571976221         1   3.794280  FIT-Transferencia        10\n",
       "2       132478560581985734         1   2.529520  FIT-Transferencia        10\n",
       "3       132478560591925804         1   3.794280  FIT-Transferencia        10\n",
       "4       132478560601916092         1   2.529520  FIT-Transferencia        10\n",
       "...                    ...       ...        ...                ...       ...\n",
       "519731  132479424481433099        10  25.374699         TempSiloSQ        10\n",
       "519732  132479424511475899        10  25.371086         TempSiloSQ        10\n",
       "519733  132479424521464009        10  25.374699         TempSiloSQ        10\n",
       "519734  132479424541508688        10  25.381926         TempSiloSQ        10\n",
       "519735  132479424551466946        10  25.389154         TempSiloSQ        10\n",
       "\n",
       "[519736 rows x 5 columns]"
      ]
     },
     "execution_count": 7,
     "metadata": {},
     "output_type": "execute_result"
    }
   ],
   "source": [
    "df_TLG1904_stream[[\"pk_TimeStamp\", \"pk_fk_Id\", \"Value\", \"tag_name\", \"DataType\"]]"
   ]
  },
  {
   "cell_type": "code",
   "execution_count": 8,
   "metadata": {},
   "outputs": [
    {
     "data": {
      "text/plain": [
       "tag_name\n",
       "FinalBRIX-D          85\n",
       "FinalFIQ-D           85\n",
       "VolumenDescargado    85\n",
       "KgSecos              85\n",
       "kgLiquidos           85\n",
       "VolTK1               85\n",
       "VolTk2               85\n",
       "BRIX-D               85\n",
       "Temperatura          85\n",
       "dKgSecos             85\n",
       "Name: count, dtype: int64"
      ]
     },
     "execution_count": 8,
     "metadata": {},
     "output_type": "execute_result"
    }
   ],
   "source": [
    "df_TLG1889_stream[\"tag_name\"].value_counts()"
   ]
  },
  {
   "cell_type": "code",
   "execution_count": null,
   "metadata": {},
   "outputs": [],
   "source": []
  }
 ],
 "metadata": {
  "kernelspec": {
   "display_name": "sqlite_tia_portal_etl",
   "language": "python",
   "name": "python3"
  },
  "language_info": {
   "codemirror_mode": {
    "name": "ipython",
    "version": 3
   },
   "file_extension": ".py",
   "mimetype": "text/x-python",
   "name": "python",
   "nbconvert_exporter": "python",
   "pygments_lexer": "ipython3",
   "version": "3.11.5"
  }
 },
 "nbformat": 4,
 "nbformat_minor": 2
}
