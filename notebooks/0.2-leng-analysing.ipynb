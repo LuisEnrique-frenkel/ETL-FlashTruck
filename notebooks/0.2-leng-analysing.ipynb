{
 "cells": [
  {
   "cell_type": "markdown",
   "metadata": {},
   "source": [
    "# Auto reload modules"
   ]
  },
  {
   "cell_type": "code",
   "execution_count": 1,
   "metadata": {},
   "outputs": [],
   "source": [
    "%load_ext autoreload\n",
    "%autoreload 2"
   ]
  },
  {
   "cell_type": "markdown",
   "metadata": {},
   "source": [
    "# Directories"
   ]
  },
  {
   "cell_type": "code",
   "execution_count": 2,
   "metadata": {},
   "outputs": [],
   "source": [
    "import pandas as pd\n",
    "import fs"
   ]
  },
  {
   "cell_type": "code",
   "execution_count": 3,
   "metadata": {},
   "outputs": [],
   "source": [
    "CSV_DIR = fs.open_fs(\"../data/processed\")\n",
    "DIR_TLG1889 = CSV_DIR.opendir(\"TLG1889\")\n",
    "DIR_TLG1893 = CSV_DIR.opendir(\"TLG1893\")\n",
    "DIR_TLG1895 = CSV_DIR.opendir(\"TLG1895\")\n",
    "DIR_TLG1897 = CSV_DIR.opendir(\"TLG1897\")\n",
    "DIR_TLG1904 = CSV_DIR.opendir(\"TLG1904\")"
   ]
  },
  {
   "cell_type": "code",
   "execution_count": 4,
   "metadata": {},
   "outputs": [],
   "source": [
    "DIR_TLG1889_stream = DIR_TLG1889.getsyspath(\"TLG1889_stream.csv\")\n",
    "DIR_TLG1893_stream = DIR_TLG1893.getsyspath(\"TLG1893_stream.csv\")\n",
    "DIR_TLG1895_stream = DIR_TLG1895.getsyspath(\"TLG1895_stream.csv\")\n",
    "DIR_TLG1897_stream = DIR_TLG1897.getsyspath(\"TLG1897_stream.csv\")\n",
    "DIR_TLG1904_stream = DIR_TLG1904.getsyspath(\"TLG1904_stream.csv\")"
   ]
  },
  {
   "cell_type": "code",
   "execution_count": 5,
   "metadata": {},
   "outputs": [],
   "source": [
    "df_TLG1889_stream = pd.read_csv(DIR_TLG1889_stream)\n",
    "df_TLG1893_stream = pd.read_csv(DIR_TLG1893_stream)\n",
    "df_TLG1895_stream = pd.read_csv(DIR_TLG1895_stream)\n",
    "df_TLG1897_stream = pd.read_csv(DIR_TLG1897_stream)\n",
    "df_TLG1904_stream = pd.read_csv(DIR_TLG1904_stream)"
   ]
  },
  {
   "cell_type": "code",
   "execution_count": 11,
   "metadata": {},
   "outputs": [
    {
     "data": {
      "text/html": [
       "<div>\n",
       "<style scoped>\n",
       "    .dataframe tbody tr th:only-of-type {\n",
       "        vertical-align: middle;\n",
       "    }\n",
       "\n",
       "    .dataframe tbody tr th {\n",
       "        vertical-align: top;\n",
       "    }\n",
       "\n",
       "    .dataframe thead th {\n",
       "        text-align: right;\n",
       "    }\n",
       "</style>\n",
       "<table border=\"1\" class=\"dataframe\">\n",
       "  <thead>\n",
       "    <tr style=\"text-align: right;\">\n",
       "      <th></th>\n",
       "      <th>pk_TimeStamp</th>\n",
       "      <th>pk_fk_Id</th>\n",
       "      <th>Value</th>\n",
       "      <th>tag_name</th>\n",
       "    </tr>\n",
       "  </thead>\n",
       "  <tbody>\n",
       "    <tr>\n",
       "      <th>0</th>\n",
       "      <td>132478560561901178</td>\n",
       "      <td>1</td>\n",
       "      <td>5.05904</td>\n",
       "      <td>FIT-Transferencia</td>\n",
       "    </tr>\n",
       "    <tr>\n",
       "      <th>1</th>\n",
       "      <td>132478560571976221</td>\n",
       "      <td>1</td>\n",
       "      <td>3.79428</td>\n",
       "      <td>FIT-Transferencia</td>\n",
       "    </tr>\n",
       "    <tr>\n",
       "      <th>2</th>\n",
       "      <td>132478560581985734</td>\n",
       "      <td>1</td>\n",
       "      <td>2.52952</td>\n",
       "      <td>FIT-Transferencia</td>\n",
       "    </tr>\n",
       "    <tr>\n",
       "      <th>3</th>\n",
       "      <td>132478560591925804</td>\n",
       "      <td>1</td>\n",
       "      <td>3.79428</td>\n",
       "      <td>FIT-Transferencia</td>\n",
       "    </tr>\n",
       "    <tr>\n",
       "      <th>4</th>\n",
       "      <td>132478560601916092</td>\n",
       "      <td>1</td>\n",
       "      <td>2.52952</td>\n",
       "      <td>FIT-Transferencia</td>\n",
       "    </tr>\n",
       "    <tr>\n",
       "      <th>...</th>\n",
       "      <td>...</td>\n",
       "      <td>...</td>\n",
       "      <td>...</td>\n",
       "      <td>...</td>\n",
       "    </tr>\n",
       "    <tr>\n",
       "      <th>13017021</th>\n",
       "      <td>133639031431303549</td>\n",
       "      <td>7</td>\n",
       "      <td>60.00000</td>\n",
       "      <td>PresionTransferencia</td>\n",
       "    </tr>\n",
       "    <tr>\n",
       "      <th>13017022</th>\n",
       "      <td>133639045815627583</td>\n",
       "      <td>7</td>\n",
       "      <td>0.00000</td>\n",
       "      <td>PresionTransferencia</td>\n",
       "    </tr>\n",
       "    <tr>\n",
       "      <th>13017023</th>\n",
       "      <td>133639045816149517</td>\n",
       "      <td>7</td>\n",
       "      <td>0.00000</td>\n",
       "      <td>PresionTransferencia</td>\n",
       "    </tr>\n",
       "    <tr>\n",
       "      <th>13017024</th>\n",
       "      <td>133639051681504284</td>\n",
       "      <td>7</td>\n",
       "      <td>60.00000</td>\n",
       "      <td>PresionTransferencia</td>\n",
       "    </tr>\n",
       "    <tr>\n",
       "      <th>13017025</th>\n",
       "      <td>133639749606561805</td>\n",
       "      <td>7</td>\n",
       "      <td>84.00000</td>\n",
       "      <td>PresionTransferencia</td>\n",
       "    </tr>\n",
       "  </tbody>\n",
       "</table>\n",
       "<p>13017026 rows × 4 columns</p>\n",
       "</div>"
      ],
      "text/plain": [
       "                pk_TimeStamp  pk_fk_Id     Value              tag_name\n",
       "0         132478560561901178         1   5.05904     FIT-Transferencia\n",
       "1         132478560571976221         1   3.79428     FIT-Transferencia\n",
       "2         132478560581985734         1   2.52952     FIT-Transferencia\n",
       "3         132478560591925804         1   3.79428     FIT-Transferencia\n",
       "4         132478560601916092         1   2.52952     FIT-Transferencia\n",
       "...                      ...       ...       ...                   ...\n",
       "13017021  133639031431303549         7  60.00000  PresionTransferencia\n",
       "13017022  133639045815627583         7   0.00000  PresionTransferencia\n",
       "13017023  133639045816149517         7   0.00000  PresionTransferencia\n",
       "13017024  133639051681504284         7  60.00000  PresionTransferencia\n",
       "13017025  133639749606561805         7  84.00000  PresionTransferencia\n",
       "\n",
       "[13017026 rows x 4 columns]"
      ]
     },
     "execution_count": 11,
     "metadata": {},
     "output_type": "execute_result"
    }
   ],
   "source": [
    "df_TLG1904_stream[[\"pk_TimeStamp\", \"pk_fk_Id\", \"Value\", \"tag_name\"]]"
   ]
  },
  {
   "cell_type": "code",
   "execution_count": 9,
   "metadata": {},
   "outputs": [
    {
     "data": {
      "text/plain": [
       "tag_name\n",
       "NivelTK1                1104628\n",
       "TempSiloSQ              1040309\n",
       "TT-Transferencia         971735\n",
       "NivelSiloSQ              957300\n",
       "PT-Transferencia         924813\n",
       "PT-Descarga              918786\n",
       "TT-Descarga              911711\n",
       "NivelTk2                 855707\n",
       "DIT-Transferencia        838008\n",
       "FIT-Descarga             835405\n",
       "DIT-Descarga             826479\n",
       "BRIX-Transferencia       800792\n",
       "BRIX-Descarga            776523\n",
       "FIT-Transferencia        760215\n",
       "FIQ-D                    494338\n",
       "PresionDescarga             266\n",
       "PresionTransferencia         11\n",
       "Name: count, dtype: int64"
      ]
     },
     "execution_count": 9,
     "metadata": {},
     "output_type": "execute_result"
    }
   ],
   "source": [
    "df_TLG1904_stream[\"tag_name\"].value_counts()"
   ]
  },
  {
   "cell_type": "code",
   "execution_count": 8,
   "metadata": {},
   "outputs": [
    {
     "data": {
      "text/plain": [
       "tag_name\n",
       "TransModo                    3719\n",
       "DestinoTK1                   3719\n",
       "DestinoTK2                   3719\n",
       "Flujo_Promedio               3719\n",
       "Totalizador_Transferencia    3719\n",
       "BRIX_Promedio                3719\n",
       "Temp_Promedio                3719\n",
       "Trans_KgSecos                3719\n",
       "tDensidad                    3719\n",
       "Name: count, dtype: int64"
      ]
     },
     "execution_count": 8,
     "metadata": {},
     "output_type": "execute_result"
    }
   ],
   "source": [
    "df_TLG1893_stream[\"tag_name\"].value_counts()"
   ]
  }
 ],
 "metadata": {
  "kernelspec": {
   "display_name": "sqlite_tia_portal_etl",
   "language": "python",
   "name": "python3"
  },
  "language_info": {
   "codemirror_mode": {
    "name": "ipython",
    "version": 3
   },
   "file_extension": ".py",
   "mimetype": "text/x-python",
   "name": "python",
   "nbconvert_exporter": "python",
   "pygments_lexer": "ipython3",
   "version": "3.11.5"
  }
 },
 "nbformat": 4,
 "nbformat_minor": 2
}
