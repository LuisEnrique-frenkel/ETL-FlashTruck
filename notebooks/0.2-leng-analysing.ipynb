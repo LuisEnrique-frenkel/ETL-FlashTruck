{
 "cells": [
  {
   "cell_type": "markdown",
   "metadata": {},
   "source": [
    "# Auto reload modules"
   ]
  },
  {
   "cell_type": "code",
   "execution_count": 13,
   "metadata": {},
   "outputs": [
    {
     "name": "stdout",
     "output_type": "stream",
     "text": [
      "The autoreload extension is already loaded. To reload it, use:\n",
      "  %reload_ext autoreload\n"
     ]
    }
   ],
   "source": [
    "%load_ext autoreload\n",
    "%autoreload 2"
   ]
  },
  {
   "cell_type": "code",
   "execution_count": 14,
   "metadata": {},
   "outputs": [],
   "source": [
    "import module.dir_utils as dir_utils\n",
    "import pandas as pd\n",
    "import fs"
   ]
  },
  {
   "cell_type": "markdown",
   "metadata": {},
   "source": [
    "# Directories"
   ]
  },
  {
   "cell_type": "code",
   "execution_count": 15,
   "metadata": {},
   "outputs": [],
   "source": [
    "CSV_DIR = fs.open_fs(\"../data/processed\")\n",
    "DIR_TLG1889 = CSV_DIR.opendir(\"TLG1889\")\n",
    "DIR_TLG1893 = CSV_DIR.opendir(\"TLG1893\")\n",
    "DIR_TLG1895 = CSV_DIR.opendir(\"TLG1895\")\n",
    "DIR_TLG1897 = CSV_DIR.opendir(\"TLG1897\")\n",
    "DIR_TLG1904 = CSV_DIR.opendir(\"TLG1904\")"
   ]
  },
  {
   "cell_type": "code",
   "execution_count": 16,
   "metadata": {},
   "outputs": [],
   "source": [
    "DIR_TLG1889_stream = DIR_TLG1889.getsyspath(\"TLG1889_stream.csv\")\n",
    "DIR_TLG1893_stream = DIR_TLG1893.getsyspath(\"TLG1893_stream.csv\")\n",
    "DIR_TLG1895_stream = DIR_TLG1895.getsyspath(\"TLG1895_stream.csv\")\n",
    "DIR_TLG1897_stream = DIR_TLG1897.getsyspath(\"TLG1897_stream.csv\")\n",
    "DIR_TLG1904_stream = DIR_TLG1904.getsyspath(\"TLG1904_stream.csv\")\n",
    "\n",
    "# Final\n",
    "DIR_TLG1893_stream_final = DIR_TLG1893.getsyspath(\"TLG1893_stream_final.csv\")\n",
    "DIR_TLG1904_stream_final = DIR_TLG1904.getsyspath(\"TLG1904_stream_final.csv\")\n",
    "\n",
    "CSV_DIR_FINAL = dir_utils.mkdir(CSV_DIR, \"final\")\n",
    "DIR_TLG_SF = CSV_DIR_FINAL.getsyspath(\"TLG_SF.csv\")"
   ]
  },
  {
   "cell_type": "code",
   "execution_count": 17,
   "metadata": {},
   "outputs": [],
   "source": [
    "df_TLG1889_stream = pd.read_csv(DIR_TLG1889_stream)\n",
    "df_TLG1893_stream = pd.read_csv(DIR_TLG1893_stream)\n",
    "df_TLG1895_stream = pd.read_csv(DIR_TLG1895_stream)\n",
    "df_TLG1897_stream = pd.read_csv(DIR_TLG1897_stream)\n",
    "df_TLG1904_stream = pd.read_csv(DIR_TLG1904_stream)"
   ]
  },
  {
   "cell_type": "code",
   "execution_count": 18,
   "metadata": {},
   "outputs": [
    {
     "data": {
      "text/plain": [
       "(15269756, 8)"
      ]
     },
     "execution_count": 18,
     "metadata": {},
     "output_type": "execute_result"
    }
   ],
   "source": [
    "df_TLG1904_stream.shape"
   ]
  },
  {
   "cell_type": "code",
   "execution_count": 19,
   "metadata": {},
   "outputs": [
    {
     "data": {
      "text/plain": [
       "tag_name\n",
       "NivelTK1                1275828\n",
       "TempSiloSQ              1201371\n",
       "TT-Transferencia        1132944\n",
       "NivelSiloSQ             1110111\n",
       "PT-Transferencia        1076306\n",
       "PT-Descarga             1069198\n",
       "TT-Descarga             1068392\n",
       "FIT-Descarga            1042856\n",
       "NivelTk2                 997955\n",
       "DIT-Transferencia        980242\n",
       "DIT-Descarga             971722\n",
       "BRIX-Transferencia       945418\n",
       "BRIX-Descarga            913019\n",
       "FIT-Transferencia        909208\n",
       "FIQ-D                    574860\n",
       "PresionDescarga             315\n",
       "PresionTransferencia         11\n",
       "Name: count, dtype: int64"
      ]
     },
     "execution_count": 19,
     "metadata": {},
     "output_type": "execute_result"
    }
   ],
   "source": [
    "df_TLG1904_stream[\"tag_name\"].value_counts()"
   ]
  },
  {
   "cell_type": "code",
   "execution_count": 20,
   "metadata": {},
   "outputs": [
    {
     "data": {
      "text/html": [
       "<div>\n",
       "<style scoped>\n",
       "    .dataframe tbody tr th:only-of-type {\n",
       "        vertical-align: middle;\n",
       "    }\n",
       "\n",
       "    .dataframe tbody tr th {\n",
       "        vertical-align: top;\n",
       "    }\n",
       "\n",
       "    .dataframe thead th {\n",
       "        text-align: right;\n",
       "    }\n",
       "</style>\n",
       "<table border=\"1\" class=\"dataframe\">\n",
       "  <thead>\n",
       "    <tr style=\"text-align: right;\">\n",
       "      <th></th>\n",
       "      <th>pk_TimeStamp</th>\n",
       "      <th>Value</th>\n",
       "      <th>tag_name</th>\n",
       "    </tr>\n",
       "  </thead>\n",
       "  <tbody>\n",
       "    <tr>\n",
       "      <th>0</th>\n",
       "      <td>132478560561901178</td>\n",
       "      <td>5.05904</td>\n",
       "      <td>FIT-Transferencia</td>\n",
       "    </tr>\n",
       "    <tr>\n",
       "      <th>1</th>\n",
       "      <td>132478560571976221</td>\n",
       "      <td>3.79428</td>\n",
       "      <td>FIT-Transferencia</td>\n",
       "    </tr>\n",
       "    <tr>\n",
       "      <th>2</th>\n",
       "      <td>132478560581985734</td>\n",
       "      <td>2.52952</td>\n",
       "      <td>FIT-Transferencia</td>\n",
       "    </tr>\n",
       "    <tr>\n",
       "      <th>3</th>\n",
       "      <td>132478560591925804</td>\n",
       "      <td>3.79428</td>\n",
       "      <td>FIT-Transferencia</td>\n",
       "    </tr>\n",
       "    <tr>\n",
       "      <th>4</th>\n",
       "      <td>132478560601916092</td>\n",
       "      <td>2.52952</td>\n",
       "      <td>FIT-Transferencia</td>\n",
       "    </tr>\n",
       "    <tr>\n",
       "      <th>...</th>\n",
       "      <td>...</td>\n",
       "      <td>...</td>\n",
       "      <td>...</td>\n",
       "    </tr>\n",
       "    <tr>\n",
       "      <th>15269751</th>\n",
       "      <td>133639031431303549</td>\n",
       "      <td>60.00000</td>\n",
       "      <td>PresionTransferencia</td>\n",
       "    </tr>\n",
       "    <tr>\n",
       "      <th>15269752</th>\n",
       "      <td>133639045815627583</td>\n",
       "      <td>0.00000</td>\n",
       "      <td>PresionTransferencia</td>\n",
       "    </tr>\n",
       "    <tr>\n",
       "      <th>15269753</th>\n",
       "      <td>133639045816149517</td>\n",
       "      <td>0.00000</td>\n",
       "      <td>PresionTransferencia</td>\n",
       "    </tr>\n",
       "    <tr>\n",
       "      <th>15269754</th>\n",
       "      <td>133639051681504284</td>\n",
       "      <td>60.00000</td>\n",
       "      <td>PresionTransferencia</td>\n",
       "    </tr>\n",
       "    <tr>\n",
       "      <th>15269755</th>\n",
       "      <td>133639749606561805</td>\n",
       "      <td>84.00000</td>\n",
       "      <td>PresionTransferencia</td>\n",
       "    </tr>\n",
       "  </tbody>\n",
       "</table>\n",
       "<p>15269756 rows × 3 columns</p>\n",
       "</div>"
      ],
      "text/plain": [
       "                pk_TimeStamp     Value              tag_name\n",
       "0         132478560561901178   5.05904     FIT-Transferencia\n",
       "1         132478560571976221   3.79428     FIT-Transferencia\n",
       "2         132478560581985734   2.52952     FIT-Transferencia\n",
       "3         132478560591925804   3.79428     FIT-Transferencia\n",
       "4         132478560601916092   2.52952     FIT-Transferencia\n",
       "...                      ...       ...                   ...\n",
       "15269751  133639031431303549  60.00000  PresionTransferencia\n",
       "15269752  133639045815627583   0.00000  PresionTransferencia\n",
       "15269753  133639045816149517   0.00000  PresionTransferencia\n",
       "15269754  133639051681504284  60.00000  PresionTransferencia\n",
       "15269755  133639749606561805  84.00000  PresionTransferencia\n",
       "\n",
       "[15269756 rows x 3 columns]"
      ]
     },
     "execution_count": 20,
     "metadata": {},
     "output_type": "execute_result"
    }
   ],
   "source": [
    "TLG1904_stream_final = df_TLG1904_stream[[\"pk_TimeStamp\", \"Value\", \"tag_name\"]]\n",
    "TLG1904_stream_final.to_csv(DIR_TLG1904_stream_final, encoding='utf-8', index=False)\n",
    "TLG1904_stream_final"
   ]
  },
  {
   "cell_type": "code",
   "execution_count": 21,
   "metadata": {},
   "outputs": [
    {
     "data": {
      "text/plain": [
       "(15269756, 3)"
      ]
     },
     "execution_count": 21,
     "metadata": {},
     "output_type": "execute_result"
    }
   ],
   "source": [
    "TLG1904_stream_final.shape"
   ]
  },
  {
   "cell_type": "code",
   "execution_count": 22,
   "metadata": {},
   "outputs": [
    {
     "data": {
      "text/plain": [
       "(34947, 8)"
      ]
     },
     "execution_count": 22,
     "metadata": {},
     "output_type": "execute_result"
    }
   ],
   "source": [
    "df_TLG1893_stream.shape"
   ]
  },
  {
   "cell_type": "code",
   "execution_count": 23,
   "metadata": {},
   "outputs": [
    {
     "data": {
      "text/html": [
       "<div>\n",
       "<style scoped>\n",
       "    .dataframe tbody tr th:only-of-type {\n",
       "        vertical-align: middle;\n",
       "    }\n",
       "\n",
       "    .dataframe tbody tr th {\n",
       "        vertical-align: top;\n",
       "    }\n",
       "\n",
       "    .dataframe thead th {\n",
       "        text-align: right;\n",
       "    }\n",
       "</style>\n",
       "<table border=\"1\" class=\"dataframe\">\n",
       "  <thead>\n",
       "    <tr style=\"text-align: right;\">\n",
       "      <th></th>\n",
       "      <th>pk_TimeStamp</th>\n",
       "      <th>Value</th>\n",
       "      <th>tag_name</th>\n",
       "    </tr>\n",
       "  </thead>\n",
       "  <tbody>\n",
       "    <tr>\n",
       "      <th>15532</th>\n",
       "      <td>133543067468902405</td>\n",
       "      <td>12210.074219</td>\n",
       "      <td>Totalizador_Transferencia</td>\n",
       "    </tr>\n",
       "    <tr>\n",
       "      <th>15533</th>\n",
       "      <td>133543079289260621</td>\n",
       "      <td>8033.640137</td>\n",
       "      <td>Totalizador_Transferencia</td>\n",
       "    </tr>\n",
       "    <tr>\n",
       "      <th>15534</th>\n",
       "      <td>133543111229257914</td>\n",
       "      <td>4964.895996</td>\n",
       "      <td>Totalizador_Transferencia</td>\n",
       "    </tr>\n",
       "    <tr>\n",
       "      <th>15535</th>\n",
       "      <td>133543134489783109</td>\n",
       "      <td>5118.520508</td>\n",
       "      <td>Totalizador_Transferencia</td>\n",
       "    </tr>\n",
       "    <tr>\n",
       "      <th>15536</th>\n",
       "      <td>133543161780470776</td>\n",
       "      <td>5799.258301</td>\n",
       "      <td>Totalizador_Transferencia</td>\n",
       "    </tr>\n",
       "    <tr>\n",
       "      <th>...</th>\n",
       "      <td>...</td>\n",
       "      <td>...</td>\n",
       "      <td>...</td>\n",
       "    </tr>\n",
       "    <tr>\n",
       "      <th>31059</th>\n",
       "      <td>133651102189696248</td>\n",
       "      <td>4747.120117</td>\n",
       "      <td>Trans_KgSecos</td>\n",
       "    </tr>\n",
       "    <tr>\n",
       "      <th>31060</th>\n",
       "      <td>133651109699861165</td>\n",
       "      <td>3443.857422</td>\n",
       "      <td>Trans_KgSecos</td>\n",
       "    </tr>\n",
       "    <tr>\n",
       "      <th>31061</th>\n",
       "      <td>133651129581081146</td>\n",
       "      <td>2619.303955</td>\n",
       "      <td>Trans_KgSecos</td>\n",
       "    </tr>\n",
       "    <tr>\n",
       "      <th>31062</th>\n",
       "      <td>133651163070180439</td>\n",
       "      <td>4089.279541</td>\n",
       "      <td>Trans_KgSecos</td>\n",
       "    </tr>\n",
       "    <tr>\n",
       "      <th>31063</th>\n",
       "      <td>133651168270224271</td>\n",
       "      <td>2192.709229</td>\n",
       "      <td>Trans_KgSecos</td>\n",
       "    </tr>\n",
       "  </tbody>\n",
       "</table>\n",
       "<p>15532 rows × 3 columns</p>\n",
       "</div>"
      ],
      "text/plain": [
       "             pk_TimeStamp         Value                   tag_name\n",
       "15532  133543067468902405  12210.074219  Totalizador_Transferencia\n",
       "15533  133543079289260621   8033.640137  Totalizador_Transferencia\n",
       "15534  133543111229257914   4964.895996  Totalizador_Transferencia\n",
       "15535  133543134489783109   5118.520508  Totalizador_Transferencia\n",
       "15536  133543161780470776   5799.258301  Totalizador_Transferencia\n",
       "...                   ...           ...                        ...\n",
       "31059  133651102189696248   4747.120117              Trans_KgSecos\n",
       "31060  133651109699861165   3443.857422              Trans_KgSecos\n",
       "31061  133651129581081146   2619.303955              Trans_KgSecos\n",
       "31062  133651163070180439   4089.279541              Trans_KgSecos\n",
       "31063  133651168270224271   2192.709229              Trans_KgSecos\n",
       "\n",
       "[15532 rows x 3 columns]"
      ]
     },
     "execution_count": 23,
     "metadata": {},
     "output_type": "execute_result"
    }
   ],
   "source": [
    "df_TLG1893_stream_final = df_TLG1893_stream[df_TLG1893_stream['tag_name'].isin(['Totalizador_Transferencia', 'BRIX_Promedio', 'Temp_Promedio', 'Trans_KgSecos'])]\n",
    "df_TLG1893_stream_final = df_TLG1893_stream_final[['pk_TimeStamp', 'Value', 'tag_name']]\n",
    "df_TLG1893_stream_final.to_csv(DIR_TLG1893_stream_final, encoding='utf-8', index=False)\n",
    "df_TLG1893_stream_final"
   ]
  },
  {
   "cell_type": "code",
   "execution_count": 24,
   "metadata": {},
   "outputs": [
    {
     "data": {
      "text/html": [
       "<div>\n",
       "<style scoped>\n",
       "    .dataframe tbody tr th:only-of-type {\n",
       "        vertical-align: middle;\n",
       "    }\n",
       "\n",
       "    .dataframe tbody tr th {\n",
       "        vertical-align: top;\n",
       "    }\n",
       "\n",
       "    .dataframe thead th {\n",
       "        text-align: right;\n",
       "    }\n",
       "</style>\n",
       "<table border=\"1\" class=\"dataframe\">\n",
       "  <thead>\n",
       "    <tr style=\"text-align: right;\">\n",
       "      <th></th>\n",
       "      <th>pk_TimeStamp</th>\n",
       "      <th>Value</th>\n",
       "      <th>tag_name</th>\n",
       "    </tr>\n",
       "  </thead>\n",
       "  <tbody>\n",
       "    <tr>\n",
       "      <th>15532</th>\n",
       "      <td>133543067468902405</td>\n",
       "      <td>12210.074219</td>\n",
       "      <td>Totalizador_Transferencia</td>\n",
       "    </tr>\n",
       "    <tr>\n",
       "      <th>15533</th>\n",
       "      <td>133543079289260621</td>\n",
       "      <td>8033.640137</td>\n",
       "      <td>Totalizador_Transferencia</td>\n",
       "    </tr>\n",
       "    <tr>\n",
       "      <th>15534</th>\n",
       "      <td>133543111229257914</td>\n",
       "      <td>4964.895996</td>\n",
       "      <td>Totalizador_Transferencia</td>\n",
       "    </tr>\n",
       "    <tr>\n",
       "      <th>15535</th>\n",
       "      <td>133543134489783109</td>\n",
       "      <td>5118.520508</td>\n",
       "      <td>Totalizador_Transferencia</td>\n",
       "    </tr>\n",
       "    <tr>\n",
       "      <th>15536</th>\n",
       "      <td>133543161780470776</td>\n",
       "      <td>5799.258301</td>\n",
       "      <td>Totalizador_Transferencia</td>\n",
       "    </tr>\n",
       "  </tbody>\n",
       "</table>\n",
       "</div>"
      ],
      "text/plain": [
       "             pk_TimeStamp         Value                   tag_name\n",
       "15532  133543067468902405  12210.074219  Totalizador_Transferencia\n",
       "15533  133543079289260621   8033.640137  Totalizador_Transferencia\n",
       "15534  133543111229257914   4964.895996  Totalizador_Transferencia\n",
       "15535  133543134489783109   5118.520508  Totalizador_Transferencia\n",
       "15536  133543161780470776   5799.258301  Totalizador_Transferencia"
      ]
     },
     "execution_count": 24,
     "metadata": {},
     "output_type": "execute_result"
    }
   ],
   "source": [
    "# Create an unique DF to CSV\n",
    "df_final = pd.concat([df_TLG1893_stream_final, TLG1904_stream_final])\n",
    "df_final.to_csv(DIR_TLG_SF, encoding='utf-8', index=False)\n",
    "df_final.head()"
   ]
  }
 ],
 "metadata": {
  "kernelspec": {
   "display_name": "sqlite_tia_portal_etl",
   "language": "python",
   "name": "python3"
  },
  "language_info": {
   "codemirror_mode": {
    "name": "ipython",
    "version": 3
   },
   "file_extension": ".py",
   "mimetype": "text/x-python",
   "name": "python",
   "nbconvert_exporter": "python",
   "pygments_lexer": "ipython3",
   "version": "3.11.5"
  }
 },
 "nbformat": 4,
 "nbformat_minor": 2
}
