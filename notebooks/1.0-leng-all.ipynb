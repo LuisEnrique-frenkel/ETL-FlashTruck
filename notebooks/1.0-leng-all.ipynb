{
 "cells": [
  {
   "cell_type": "markdown",
   "metadata": {},
   "source": [
    "# Run project"
   ]
  },
  {
   "cell_type": "code",
   "execution_count": 6,
   "metadata": {},
   "outputs": [
    {
     "name": "stdout",
     "output_type": "stream",
     "text": [
      "The autoreload extension is already loaded. To reload it, use:\n",
      "  %reload_ext autoreload\n",
      "Error processing database at /HMI_RT_5_TLG1889_20240704_171516.db3-shm: Execution failed on sql 'SELECT * FROM LoggedProcessValue;': no such table: LoggedProcessValue\n",
      "Error processing database at /HMI_RT_5_TLG1893_20240704_171521.db3-shm: Execution failed on sql 'SELECT * FROM LoggedProcessValue;': no such table: LoggedProcessValue\n",
      "Error processing database at /HMI_RT_5_TLG1897_20240328_171531.db3-shm: Execution failed on sql 'SELECT * FROM LoggedProcessValue;': no such table: LoggedProcessValue\n",
      "Error processing database at /HMI_RT_5_TLG1897_20240328_171531.db3-shm: Execution failed on sql 'SELECT * FROM LoggedProcessValue;': no such table: LoggedProcessValue\n"
     ]
    }
   ],
   "source": [
    "%run ./0.0-leng-initial.ipynb"
   ]
  },
  {
   "cell_type": "code",
   "execution_count": 7,
   "metadata": {},
   "outputs": [
    {
     "name": "stdout",
     "output_type": "stream",
     "text": [
      "The autoreload extension is already loaded. To reload it, use:\n",
      "  %reload_ext autoreload\n"
     ]
    }
   ],
   "source": [
    "%run ./0.1-leng-processing.ipynb"
   ]
  },
  {
   "cell_type": "code",
   "execution_count": 8,
   "metadata": {},
   "outputs": [
    {
     "name": "stdout",
     "output_type": "stream",
     "text": [
      "The autoreload extension is already loaded. To reload it, use:\n",
      "  %reload_ext autoreload\n"
     ]
    }
   ],
   "source": [
    "%run ./0.2-leng-analysing.ipynb"
   ]
  },
  {
   "cell_type": "code",
   "execution_count": 9,
   "metadata": {},
   "outputs": [
    {
     "name": "stdout",
     "output_type": "stream",
     "text": [
      "The autoreload extension is already loaded. To reload it, use:\n",
      "  %reload_ext autoreload\n"
     ]
    }
   ],
   "source": [
    "%run ./0.3-leng-saving-sqlite.ipynb"
   ]
  },
  {
   "cell_type": "code",
   "execution_count": 10,
   "metadata": {},
   "outputs": [
    {
     "name": "stdout",
     "output_type": "stream",
     "text": [
      "The autoreload extension is already loaded. To reload it, use:\n",
      "  %reload_ext autoreload\n",
      "2024-03-03T00:48:41.796401Z\n",
      "<class 'pandas.core.frame.DataFrame'>\n",
      "RangeIndex: 15285288 entries, 0 to 15285287\n",
      "Data columns (total 3 columns):\n",
      " #   Column  Dtype  \n",
      "---  ------  -----  \n",
      " 0   _time   object \n",
      " 1   _value  float64\n",
      " 2   _field  object \n",
      "dtypes: float64(1), object(2)\n",
      "memory usage: 349.9+ MB\n"
     ]
    }
   ],
   "source": [
    "%run ./0.4-leng-create-inf-csv.ipynb"
   ]
  }
 ],
 "metadata": {
  "kernelspec": {
   "display_name": "sqlite_tia_portal_etl",
   "language": "python",
   "name": "python3"
  },
  "language_info": {
   "codemirror_mode": {
    "name": "ipython",
    "version": 3
   },
   "file_extension": ".py",
   "mimetype": "text/x-python",
   "name": "python",
   "nbconvert_exporter": "python",
   "pygments_lexer": "ipython3",
   "version": "3.11.5"
  }
 },
 "nbformat": 4,
 "nbformat_minor": 2
}
