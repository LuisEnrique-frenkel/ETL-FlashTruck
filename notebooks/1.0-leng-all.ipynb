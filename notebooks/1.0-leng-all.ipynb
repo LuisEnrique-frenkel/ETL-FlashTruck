{
 "cells": [
  {
   "cell_type": "markdown",
   "metadata": {},
   "source": [
    "# Run project"
   ]
  },
  {
   "cell_type": "code",
   "execution_count": 1,
   "metadata": {},
   "outputs": [
    {
     "name": "stdout",
     "output_type": "stream",
     "text": [
      "Error processing database at /HMI_RT_5_TLG1893_20240704_171521.db3-shm: Execution failed on sql 'SELECT * FROM LoggedProcessValue;': no such table: LoggedProcessValue\n",
      "Error processing database at /HMI_RT_5_TLG1895_20210928_231852.db3-shm: Execution failed on sql 'SELECT * FROM LoggedProcessValue;': no such table: LoggedProcessValue\n",
      "Error processing database at /HMI_RT_5_TLG1897_20240328_171531.db3-shm: Execution failed on sql 'SELECT * FROM LoggedProcessValue;': no such table: LoggedProcessValue\n",
      "Error processing database at /HMI_RT_5_TLG1904_20240701_175826.db3-shm: Execution failed on sql 'SELECT * FROM LoggedProcessValue;': no such table: LoggedProcessValue\n"
     ]
    }
   ],
   "source": [
    "%run ./0.0-leng-initial.ipynb"
   ]
  },
  {
   "cell_type": "code",
   "execution_count": 2,
   "metadata": {},
   "outputs": [
    {
     "name": "stdout",
     "output_type": "stream",
     "text": [
      "The autoreload extension is already loaded. To reload it, use:\n",
      "  %reload_ext autoreload\n"
     ]
    }
   ],
   "source": [
    "%run ./0.1-leng-processing.ipynb"
   ]
  },
  {
   "cell_type": "code",
   "execution_count": 3,
   "metadata": {},
   "outputs": [
    {
     "name": "stdout",
     "output_type": "stream",
     "text": [
      "The autoreload extension is already loaded. To reload it, use:\n",
      "  %reload_ext autoreload\n",
      "<class 'pandas.core.frame.DataFrame'>\n",
      "Index: 14876 entries, 14876 to 29751\n",
      "Data columns (total 3 columns):\n",
      " #   Column        Non-Null Count  Dtype  \n",
      "---  ------        --------------  -----  \n",
      " 0   pk_TimeStamp  14876 non-null  int64  \n",
      " 1   Value         14876 non-null  float64\n",
      " 2   tag_name      14876 non-null  object \n",
      "dtypes: float64(1), int64(1), object(1)\n",
      "memory usage: 464.9+ KB\n"
     ]
    }
   ],
   "source": [
    "%run ./0.2-leng-analysing.ipynb"
   ]
  },
  {
   "cell_type": "code",
   "execution_count": 4,
   "metadata": {},
   "outputs": [
    {
     "name": "stdout",
     "output_type": "stream",
     "text": [
      "The autoreload extension is already loaded. To reload it, use:\n",
      "  %reload_ext autoreload\n"
     ]
    }
   ],
   "source": [
    "%run ./0.3-leng-saving-sqlite.ipynb"
   ]
  },
  {
   "cell_type": "code",
   "execution_count": 6,
   "metadata": {},
   "outputs": [
    {
     "name": "stdout",
     "output_type": "stream",
     "text": [
      "The autoreload extension is already loaded. To reload it, use:\n",
      "  %reload_ext autoreload\n",
      "2024-03-03T00:48:41.796401Z\n"
     ]
    }
   ],
   "source": [
    "%run ./0.4-leng-create-inf-csv.ipynb"
   ]
  }
 ],
 "metadata": {
  "kernelspec": {
   "display_name": "sqlite_tia_portal_etl",
   "language": "python",
   "name": "python3"
  },
  "language_info": {
   "codemirror_mode": {
    "name": "ipython",
    "version": 3
   },
   "file_extension": ".py",
   "mimetype": "text/x-python",
   "name": "python",
   "nbconvert_exporter": "python",
   "pygments_lexer": "ipython3",
   "version": "3.11.5"
  }
 },
 "nbformat": 4,
 "nbformat_minor": 2
}
