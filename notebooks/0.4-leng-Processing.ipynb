{
 "cells": [
  {
   "cell_type": "markdown",
   "metadata": {},
   "source": [
    "# Change Time"
   ]
  },
  {
   "cell_type": "code",
   "execution_count": 8,
   "metadata": {},
   "outputs": [
    {
     "name": "stdout",
     "output_type": "stream",
     "text": [
      "Fecha (parte entera): 2024-03-03 00:00:00\n",
      "Hora (parte fraccionaria): 0:48:41.796401\n"
     ]
    }
   ],
   "source": [
    "from datetime import datetime, timedelta\n",
    "\n",
    "# Valor de ticks\n",
    "ticks = 133539005217964000\n",
    "\n",
    "# Convertir ticks a segundos (100 nanosegundos por tick)\n",
    "seconds = ticks / 10_000_000\n",
    "\n",
    "# Convertir segundos a días\n",
    "days = seconds / (60 * 60 * 24)\n",
    "\n",
    "# Ajustar a la época de Excel\n",
    "# Diferencia en días entre 1601-01-01 y 1899-12-31 es 109205 días\n",
    "excel_epoch_adjustment = 109205\n",
    "excel_days = days - excel_epoch_adjustment\n",
    "\n",
    "# Separar días y tiempo\n",
    "date_part = int(excel_days)\n",
    "time_part = excel_days - date_part\n",
    "\n",
    "# Convertir a datetime en Python para ver el resultado\n",
    "excel_start_date = datetime(1899, 12, 30)  # Excel's epoch start date (2 days before 1900-01-01)\n",
    "result_date = excel_start_date + timedelta(days=date_part)\n",
    "result_time = timedelta(days=time_part)\n",
    "\n",
    "# Mostrar resultados\n",
    "print(\"Fecha (parte entera):\", result_date)\n",
    "print(\"Hora (parte fraccionaria):\", result_time)\n"
   ]
  }
 ],
 "metadata": {
  "kernelspec": {
   "display_name": "sqlite_tia_portal_etl",
   "language": "python",
   "name": "python3"
  },
  "language_info": {
   "codemirror_mode": {
    "name": "ipython",
    "version": 3
   },
   "file_extension": ".py",
   "mimetype": "text/x-python",
   "name": "python",
   "nbconvert_exporter": "python",
   "pygments_lexer": "ipython3",
   "version": "3.11.5"
  }
 },
 "nbformat": 4,
 "nbformat_minor": 2
}
